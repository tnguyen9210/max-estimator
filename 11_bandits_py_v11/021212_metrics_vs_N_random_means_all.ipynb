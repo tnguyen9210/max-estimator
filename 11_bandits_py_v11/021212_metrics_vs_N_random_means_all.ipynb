{
 "cells": [
  {
   "cell_type": "code",
   "execution_count": 1,
   "id": "676b6b73-3656-4b89-a81c-bf056732a498",
   "metadata": {},
   "outputs": [],
   "source": [
    "from collections import defaultdict\n",
    "import random\n",
    "import numpy as np\n",
    "import matplotlib.pyplot as plt \n",
    "\n",
    "import time \n",
    "import multiprocessing\n",
    "\n",
    "from algos import *"
   ]
  },
  {
   "cell_type": "code",
   "execution_count": 6,
   "id": "88b04902-bb30-4d7f-9bd9-5f593648f100",
   "metadata": {
    "tags": []
   },
   "outputs": [
    {
     "name": "stdout",
     "output_type": "stream",
     "text": [
      "\n",
      "-> est_name = max\n",
      "it takes 12.7517\n"
     ]
    }
   ],
   "source": [
    "\n",
    "manager = multiprocessing.Manager()\n",
    "error_list = manager.list()\n",
    "\n",
    "def run_trial(\n",
    "        i_trial, estimator, num_actions, num_samples, action_mus_true=None):\n",
    "    \n",
    "    random.seed(10000 + i_trial)\n",
    "    np.random.seed(10000 + i_trial)\n",
    "    \n",
    "    # # set action_means\n",
    "    if not action_mus_true:\n",
    "        action_mus_true = 0.02 * (0.05 - 0.02)*np.random.rand(num_actions)\n",
    "        \n",
    "    mu_max = np.max(action_mus_true)\n",
    "    \n",
    "    # generate rewards\n",
    "    action_rewards = np.random.binomial(\n",
    "        1, action_mus_true, (num_samples, num_actions))\n",
    "\n",
    "    mu_est = estimator(action_rewards, num_actions, num_samples)\n",
    "\n",
    "    error_list.append(mu_max - mu_est)    \n",
    "\n",
    "# params\n",
    "num_actions = 30\n",
    "num_samples = 1000\n",
    "num_trials = 2000\n",
    "\n",
    "est_bias_dict = defaultdict(list)\n",
    "est_var_dict = defaultdict(list)\n",
    "est_mse_dict = defaultdict(list)\n",
    "\n",
    "pool = multiprocessing.Pool()\n",
    "\n",
    "est_name_ary = [\"haver\", \"weightedms\", \"double\", \"max\"]\n",
    "est_name_ary = [\"max\"]\n",
    "num_samples_ary = np.arange(1000, 11000, 1000)\n",
    "for est_name in est_name_ary:\n",
    "    start_time = time.time()\n",
    "    print(f\"\\n-> est_name = {est_name}\")\n",
    "    estimator = create_estimator(est_name)\n",
    "\n",
    "    for num_samples in num_samples_ary:\n",
    "        trial_args = [\n",
    "            (i, estimator, num_actions, num_samples) for i in range(num_trials)]\n",
    "        pool.starmap(run_trial, trial_args)\n",
    "\n",
    "        error_ary = np.hstack(error_list)\n",
    "        est_bias = np.mean(error_ary)\n",
    "        est_var = np.var(error_ary, ddof=1)\n",
    "        est_mse = est_bias**2 + est_var\n",
    "        \n",
    "        est_bias_dict[est_name].append(est_bias)\n",
    "        est_var_dict[est_name].append(est_var)\n",
    "        est_mse_dict[est_name].append(est_mse)\n",
    "        \n",
    "        error_list[:] = []\n",
    "        \n",
    "    end_time = time.time()\n",
    "    print(f\"it takes {end_time-start_time:0.4f}\")\n"
   ]
  },
  {
   "cell_type": "code",
   "execution_count": 1,
   "id": "889abe23-23e3-4dc8-894e-3f7b9cf0aa74",
   "metadata": {
    "tags": []
   },
   "outputs": [
    {
     "ename": "NameError",
     "evalue": "name 'plt' is not defined",
     "output_type": "error",
     "traceback": [
      "\u001b[0;31m---------------------------------------------------------------------------\u001b[0m",
      "\u001b[0;31mNameError\u001b[0m                                 Traceback (most recent call last)",
      "\u001b[0;32m/tmp/ipykernel_2633023/2881497398.py\u001b[0m in \u001b[0;36m<module>\u001b[0;34m\u001b[0m\n\u001b[0;32m----> 1\u001b[0;31m fig, axes = fig, axes = plt.subplots(\n\u001b[0m\u001b[1;32m      2\u001b[0m         nrows=2, ncols=2, sharex=True, sharey=False, figsize=(10,10))\n\u001b[1;32m      3\u001b[0m \u001b[0;31m# axes = [axes]\u001b[0m\u001b[0;34m\u001b[0m\u001b[0;34m\u001b[0m\u001b[0;34m\u001b[0m\u001b[0m\n\u001b[1;32m      4\u001b[0m \u001b[0maxes\u001b[0m \u001b[0;34m=\u001b[0m \u001b[0maxes\u001b[0m\u001b[0;34m.\u001b[0m\u001b[0mravel\u001b[0m\u001b[0;34m(\u001b[0m\u001b[0;34m)\u001b[0m\u001b[0;34m\u001b[0m\u001b[0;34m\u001b[0m\u001b[0m\n\u001b[1;32m      5\u001b[0m \u001b[0;34m\u001b[0m\u001b[0m\n",
      "\u001b[0;31mNameError\u001b[0m: name 'plt' is not defined"
     ]
    }
   ],
   "source": [
    "fig, axes = fig, axes = plt.subplots(\n",
    "        nrows=2, ncols=2, sharex=True, sharey=False, figsize=(10,10))\n",
    "# axes = [axes]\n",
    "axes = axes.ravel()\n",
    "\n",
    "est_name_ary = [\"haver\", \"weightedms\", \"double\", \"max\"]\n",
    "est_name_ary = [\"max\"]\n",
    "x_ary = num_samples_ary\n",
    "for est_name in est_name_ary:\n",
    "    axes[0].plot(x_ary, est_bias_dict[est_name], label=est_name)\n",
    "    axes[1].plot(x_ary, np.abs(est_bias_dict[est_name]), label=est_name)\n",
    "    axes[2].plot(x_ary, est_var_dict[est_name], label=est_name)\n",
    "    axes[3].plot(x_ary, est_mse_dict[est_name], label=est_name)\n",
    "\n",
    "axes[0].set_title(\"mse\")\n",
    "axes[1].set_title(\"bias\")\n",
    "axes[2].set_title(\"var\")\n",
    "axes[0].legend()\n",
    "axes[1].legend()\n",
    "axes[2].legend()\n",
    "plt.show()"
   ]
  }
 ],
 "metadata": {
  "kernelspec": {
   "display_name": "Python 3 (ipykernel)",
   "language": "python",
   "name": "python3"
  },
  "language_info": {
   "codemirror_mode": {
    "name": "ipython",
    "version": 3
   },
   "file_extension": ".py",
   "mimetype": "text/x-python",
   "name": "python",
   "nbconvert_exporter": "python",
   "pygments_lexer": "ipython3",
   "version": "3.7.16"
  }
 },
 "nbformat": 4,
 "nbformat_minor": 5
}
