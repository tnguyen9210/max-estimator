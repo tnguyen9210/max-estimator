{
 "cells": [
  {
   "cell_type": "code",
   "execution_count": 1,
   "id": "676b6b73-3656-4b89-a81c-bf056732a498",
   "metadata": {},
   "outputs": [],
   "source": [
    "from collections import defaultdict\n",
    "import random\n",
    "import numpy as np\n",
    "\n",
    "import matplotlib.pyplot as plt \n",
    "import seaborn as sns\n",
    "sns.set_style(\"ticks\")\n",
    "sns.set_palette(\"tab20\")\n",
    "colors = sns.color_palette(\"bright\")\n",
    "\n",
    "import time \n",
    "import multiprocessing\n",
    "\n",
    "from algos import *"
   ]
  },
  {
   "cell_type": "code",
   "execution_count": 2,
   "id": "88b04902-bb30-4d7f-9bd9-5f593648f100",
   "metadata": {
    "tags": []
   },
   "outputs": [
    {
     "name": "stdout",
     "output_type": "stream",
     "text": [
      "\n",
      "-> est_name = weightedms\n"
     ]
    },
    {
     "ename": "NameError",
     "evalue": "name 'error_list' is not defined",
     "output_type": "error",
     "traceback": [
      "\u001b[0;31m---------------------------------------------------------------------------\u001b[0m",
      "\u001b[0;31mRemoteTraceback\u001b[0m                           Traceback (most recent call last)",
      "\u001b[0;31mRemoteTraceback\u001b[0m: \n\"\"\"\nTraceback (most recent call last):\n  File \"/Users/tnn/miniconda3/envs/tnn/lib/python3.10/multiprocessing/pool.py\", line 125, in worker\n    result = (True, func(*args, **kwds))\n  File \"/Users/tnn/miniconda3/envs/tnn/lib/python3.10/multiprocessing/pool.py\", line 51, in starmapstar\n    return list(itertools.starmap(args[0], args[1]))\n  File \"/Users/tnn/Documents/20_School/ResearchLog/Codes/max_estimator/11_bandits_py_v11/utils.py\", line 42, in run_trial\n    error_list.append(mu_est - mu_max)\nNameError: name 'error_list' is not defined\n\"\"\"",
      "\nThe above exception was the direct cause of the following exception:\n",
      "\u001b[0;31mNameError\u001b[0m                                 Traceback (most recent call last)",
      "Cell \u001b[0;32mIn [2], line 82\u001b[0m\n\u001b[1;32m     78\u001b[0m num_actions \u001b[38;5;241m=\u001b[39m \u001b[38;5;28mlen\u001b[39m(action_mus)\n\u001b[1;32m     80\u001b[0m trial_args \u001b[38;5;241m=\u001b[39m [\n\u001b[1;32m     81\u001b[0m     (i, reward_fn, estimator, num_actions, num_samples, args) \u001b[38;5;28;01mfor\u001b[39;00m i \u001b[38;5;129;01min\u001b[39;00m \u001b[38;5;28mrange\u001b[39m(num_trials)]\n\u001b[0;32m---> 82\u001b[0m \u001b[43mpool\u001b[49m\u001b[38;5;241;43m.\u001b[39;49m\u001b[43mstarmap\u001b[49m\u001b[43m(\u001b[49m\u001b[43mrun_trial\u001b[49m\u001b[43m,\u001b[49m\u001b[43m \u001b[49m\u001b[43mtrial_args\u001b[49m\u001b[43m)\u001b[49m\n\u001b[1;32m     84\u001b[0m error_ary \u001b[38;5;241m=\u001b[39m np\u001b[38;5;241m.\u001b[39mhstack(error_list)\n\u001b[1;32m     85\u001b[0m est_bias \u001b[38;5;241m=\u001b[39m np\u001b[38;5;241m.\u001b[39mmean(error_ary)\n",
      "File \u001b[0;32m~/miniconda3/envs/tnn/lib/python3.10/multiprocessing/pool.py:375\u001b[0m, in \u001b[0;36mPool.starmap\u001b[0;34m(self, func, iterable, chunksize)\u001b[0m\n\u001b[1;32m    369\u001b[0m \u001b[38;5;28;01mdef\u001b[39;00m \u001b[38;5;21mstarmap\u001b[39m(\u001b[38;5;28mself\u001b[39m, func, iterable, chunksize\u001b[38;5;241m=\u001b[39m\u001b[38;5;28;01mNone\u001b[39;00m):\n\u001b[1;32m    370\u001b[0m     \u001b[38;5;124;03m'''\u001b[39;00m\n\u001b[1;32m    371\u001b[0m \u001b[38;5;124;03m    Like `map()` method but the elements of the `iterable` are expected to\u001b[39;00m\n\u001b[1;32m    372\u001b[0m \u001b[38;5;124;03m    be iterables as well and will be unpacked as arguments. Hence\u001b[39;00m\n\u001b[1;32m    373\u001b[0m \u001b[38;5;124;03m    `func` and (a, b) becomes func(a, b).\u001b[39;00m\n\u001b[1;32m    374\u001b[0m \u001b[38;5;124;03m    '''\u001b[39;00m\n\u001b[0;32m--> 375\u001b[0m     \u001b[38;5;28;01mreturn\u001b[39;00m \u001b[38;5;28;43mself\u001b[39;49m\u001b[38;5;241;43m.\u001b[39;49m\u001b[43m_map_async\u001b[49m\u001b[43m(\u001b[49m\u001b[43mfunc\u001b[49m\u001b[43m,\u001b[49m\u001b[43m \u001b[49m\u001b[43miterable\u001b[49m\u001b[43m,\u001b[49m\u001b[43m \u001b[49m\u001b[43mstarmapstar\u001b[49m\u001b[43m,\u001b[49m\u001b[43m \u001b[49m\u001b[43mchunksize\u001b[49m\u001b[43m)\u001b[49m\u001b[38;5;241;43m.\u001b[39;49m\u001b[43mget\u001b[49m\u001b[43m(\u001b[49m\u001b[43m)\u001b[49m\n",
      "File \u001b[0;32m~/miniconda3/envs/tnn/lib/python3.10/multiprocessing/pool.py:774\u001b[0m, in \u001b[0;36mApplyResult.get\u001b[0;34m(self, timeout)\u001b[0m\n\u001b[1;32m    772\u001b[0m     \u001b[38;5;28;01mreturn\u001b[39;00m \u001b[38;5;28mself\u001b[39m\u001b[38;5;241m.\u001b[39m_value\n\u001b[1;32m    773\u001b[0m \u001b[38;5;28;01melse\u001b[39;00m:\n\u001b[0;32m--> 774\u001b[0m     \u001b[38;5;28;01mraise\u001b[39;00m \u001b[38;5;28mself\u001b[39m\u001b[38;5;241m.\u001b[39m_value\n",
      "\u001b[0;31mNameError\u001b[0m: name 'error_list' is not defined"
     ]
    }
   ],
   "source": [
    "\n",
    "manager = multiprocessing.Manager()\n",
    "error_list = manager.list()\n",
    "\n",
    "def run_trial(\n",
    "        i_trial, reward_fn, estimator, num_actions, num_samples, args):\n",
    "    \n",
    "    random.seed(10000 + i_trial)\n",
    "    np.random.seed(10000 + i_trial)\n",
    "    \n",
    "    # set action_mus and action_sigmas\n",
    "    if not args[\"action_mus\"]:\n",
    "        action_mus = 0.02 * (0.05 - 0.02)*np.random.rand(num_actions)\n",
    "    else:\n",
    "        action_mus = args[\"action_mus\"]\n",
    "        \n",
    "    action_sigmas = args[\"action_sigmas\"]\n",
    "        \n",
    "    # print(action_mus)\n",
    "    # print(action_sigmas)\n",
    "    # generate rewards\n",
    "    action_rewards = reward_fn(\n",
    "        action_mus, action_sigmas, num_actions, num_samples)\n",
    "    \n",
    "    # action_mus_hat = np.mean(action_rewards, axis=0)\n",
    "    # action_sigmas_hat = np.std(action_rewards, axis=0, ddof=1)\n",
    "    # print(action_mus_hat)\n",
    "    # print(action_sigmas_hat)\n",
    "    \n",
    "    # apply estimator\n",
    "    mu_est = estimator(action_rewards, num_actions, num_samples, args)    \n",
    "    # print(mu_est)\n",
    "\n",
    "    mu_max = np.max(action_mus)\n",
    "    # print(mu_max)\n",
    "    error_list.append(mu_est - mu_max)    \n",
    "\n",
    "# params\n",
    "num_actions = 2\n",
    "num_samples = 100\n",
    "num_trials = 2000\n",
    "\n",
    "args = dict()\n",
    "args[\"weightedms_num_data\"] = 1000\n",
    "args[\"haver_const\"] = 2\n",
    "args[\"haver_delta\"] = 0.05\n",
    "    \n",
    "pool = multiprocessing.Pool()\n",
    "\n",
    "num_samples_ary = [10, 25, 50, 100, 250, 500] \n",
    "\n",
    "action_var = 100\n",
    "action_mu2_ary = np.arange(0, 5.25, 0.25)\n",
    "action_mus_ary = [[0, -mu] for mu in action_mu2_ary] \n",
    "\n",
    "est_bias_dict = defaultdict(lambda: np.zeros((len(num_samples_ary), len(action_mu2_ary))))\n",
    "est_var_dict = defaultdict(lambda: np.zeros((len(num_samples_ary), len(action_mu2_ary))))\n",
    "est_mse_dict = defaultdict(lambda: np.zeros((len(num_samples_ary), len(action_mu2_ary))))\n",
    "\n",
    "haver_const_ary = [1.0, 2.5, 5.0, 7.5, 10.0]                                             \n",
    "haver_name_ary = [f\"haver_{x}\" for x in haver_const_ary]\n",
    "est_name_ary = [\"weightedms\", \"double\", \"max\"]\n",
    "est_name_ary += haver_name_ary\n",
    "for est_name in est_name_ary:\n",
    "    start_time = time.time()\n",
    "    print(f\"\\n-> est_name = {est_name}\")\n",
    "    if \"haver\" in est_name:\n",
    "        estimator = create_estimator(\"haver\")\n",
    "        args[\"haver_const\"] = float(est_name.split(\"_\")[-1])\n",
    "    else:\n",
    "        estimator = create_estimator(est_name)\n",
    "    reward_fn = create_reward_fn(\"normal\")\n",
    "        \n",
    "    for i_N, num_samples in enumerate(num_samples_ary):\n",
    "        for i_mu, action_mus in enumerate(action_mus_ary):\n",
    "            # print(f\"\\n-> num_samples = {num_samples}, action_mus = {action_mus}\")\n",
    "            args[\"action_mus\"] = action_mus\n",
    "            args[\"action_sigmas\"] = [np.sqrt(action_var) for i in range(num_actions)]\n",
    "            num_actions = len(action_mus)\n",
    "\n",
    "            trial_args = [\n",
    "                (i, reward_fn, estimator, num_actions, num_samples, args) for i in range(num_trials)]\n",
    "            pool.starmap(run_trial, trial_args)\n",
    "\n",
    "            error_ary = np.hstack(error_list)\n",
    "            est_bias = np.mean(error_ary)\n",
    "            est_var = np.var(error_ary, ddof=1)\n",
    "            est_mse = est_bias**2 + est_var\n",
    "\n",
    "            est_bias_dict[est_name][i_N, i_mu] = est_bias\n",
    "            est_var_dict[est_name][i_N, i_mu] = est_var\n",
    "            est_mse_dict[est_name][i_N, i_mu] = est_mse\n",
    "\n",
    "            error_list[:] = []\n",
    "        \n",
    "    end_time = time.time()\n",
    "    print(f\"it takes {end_time-start_time:0.4f}\")\n",
    "    "
   ]
  },
  {
   "cell_type": "code",
   "execution_count": null,
   "id": "889abe23-23e3-4dc8-894e-3f7b9cf0aa74",
   "metadata": {
    "tags": []
   },
   "outputs": [],
   "source": [
    "fig, axes = plt.subplots(\n",
    "        nrows=3, ncols=2, sharex=True, sharey=False, figsize=(10,15))\n",
    "# axes = [axes]\n",
    "axes = axes.ravel()\n",
    "\n",
    "x_ary = action_mu2_ary\n",
    "\n",
    "for i_N, num_samples in enumerate(num_samples_ary):\n",
    "    for est_name in est_name_ary:\n",
    "        axes[i_N].plot(x_ary, est_mse_dict[est_name][i_N,:], label=est_name)\n",
    "        axes[i_N].set_title(f\"mse, N={num_samples}\")\n",
    "        axes[i_N].legend()\n",
    "        \n",
    "plt.show()"
   ]
  },
  {
   "cell_type": "code",
   "execution_count": null,
   "id": "2662639c-100e-4d71-9fea-3c2ec9d1e363",
   "metadata": {
    "tags": []
   },
   "outputs": [],
   "source": [
    "fig, axes = plt.subplots(\n",
    "        nrows=3, ncols=2, sharex=True, sharey=False, figsize=(15,15))\n",
    "# axes = [axes]\n",
    "axes = axes.ravel()\n",
    "\n",
    "x_ary = action_mu2_ary\n",
    "\n",
    "for i_N, num_samples in enumerate(num_samples_ary):\n",
    "    for est_name in est_name_ary:\n",
    "        axes[i_N].plot(x_ary, est_bias_dict[est_name][i_N,:], label=est_name)\n",
    "        axes[i_N].set_title(f\"bias, N={num_samples}\")\n",
    "        axes[i_N].legend()\n",
    "        \n",
    "plt.show()"
   ]
  },
  {
   "cell_type": "code",
   "execution_count": null,
   "id": "e9e118b5-df3d-44c4-958c-63d85eba7182",
   "metadata": {
    "tags": []
   },
   "outputs": [],
   "source": [
    "fig, axes = plt.subplots(\n",
    "        nrows=3, ncols=2, sharex=True, sharey=False, figsize=(15,15))\n",
    "# axes = [axes]\n",
    "axes = axes.ravel()\n",
    "\n",
    "x_ary = action_mu2_ary\n",
    "\n",
    "for i_N, num_samples in enumerate(num_samples_ary):\n",
    "    for est_name in est_name_ary:\n",
    "        axes[i_N].plot(x_ary, np.abs(est_bias_dict[est_name][i_N,:]), label=est_name)\n",
    "        axes[i_N].set_title(f\"abs bias, N={num_samples}\")\n",
    "        axes[i_N].legend()\n",
    "        \n",
    "plt.show()"
   ]
  }
 ],
 "metadata": {
  "kernelspec": {
   "display_name": "Python 3 (ipykernel)",
   "language": "python",
   "name": "python3"
  },
  "language_info": {
   "codemirror_mode": {
    "name": "ipython",
    "version": 3
   },
   "file_extension": ".py",
   "mimetype": "text/x-python",
   "name": "python",
   "nbconvert_exporter": "python",
   "pygments_lexer": "ipython3",
   "version": "3.10.8"
  }
 },
 "nbformat": 4,
 "nbformat_minor": 5
}
