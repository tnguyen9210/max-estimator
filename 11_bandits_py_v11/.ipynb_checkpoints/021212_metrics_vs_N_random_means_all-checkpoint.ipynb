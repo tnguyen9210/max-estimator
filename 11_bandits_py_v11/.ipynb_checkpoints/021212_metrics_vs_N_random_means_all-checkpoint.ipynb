{
 "cells": [
  {
   "cell_type": "code",
   "execution_count": 1,
   "id": "676b6b73-3656-4b89-a81c-bf056732a498",
   "metadata": {},
   "outputs": [],
   "source": [
    "from collections import defaultdict\n",
    "import random\n",
    "import numpy as np\n",
    "import matplotlib.pyplot as plt \n",
    "\n",
    "import time \n",
    "import multiprocessing\n",
    "\n",
    "from algos import *"
   ]
  },
  {
   "cell_type": "code",
   "execution_count": 3,
   "id": "88b04902-bb30-4d7f-9bd9-5f593648f100",
   "metadata": {
    "tags": []
   },
   "outputs": [
    {
     "name": "stdout",
     "output_type": "stream",
     "text": [
      "\n",
      "-> est_name = max\n"
     ]
    },
    {
     "ename": "FileNotFoundError",
     "evalue": "[Errno 2] No such file or directory",
     "output_type": "error",
     "traceback": [
      "\u001b[0;31m---------------------------------------------------------------------------\u001b[0m",
      "\u001b[0;31mRemoteTraceback\u001b[0m                           Traceback (most recent call last)",
      "\u001b[0;31mRemoteTraceback\u001b[0m: \n\"\"\"\nTraceback (most recent call last):\n  File \"/home/tnn/miniconda3/envs/tnn1/lib/python3.7/multiprocessing/managers.py\", line 811, in _callmethod\n    conn = self._tls.connection\nAttributeError: 'ForkAwareLocal' object has no attribute 'connection'\n\nDuring handling of the above exception, another exception occurred:\n\nTraceback (most recent call last):\n  File \"/home/tnn/miniconda3/envs/tnn1/lib/python3.7/multiprocessing/pool.py\", line 121, in worker\n    result = (True, func(*args, **kwds))\n  File \"/home/tnn/miniconda3/envs/tnn1/lib/python3.7/multiprocessing/pool.py\", line 47, in starmapstar\n    return list(itertools.starmap(args[0], args[1]))\n  File \"/tmp/ipykernel_1804274/2268572113.py\", line 23, in run_trial\n    error_list.append(mu_max - mu_est)\n  File \"<string>\", line 2, in append\n  File \"/home/tnn/miniconda3/envs/tnn1/lib/python3.7/multiprocessing/managers.py\", line 815, in _callmethod\n    self._connect()\n  File \"/home/tnn/miniconda3/envs/tnn1/lib/python3.7/multiprocessing/managers.py\", line 802, in _connect\n    conn = self._Client(self._token.address, authkey=self._authkey)\n  File \"/home/tnn/miniconda3/envs/tnn1/lib/python3.7/multiprocessing/connection.py\", line 492, in Client\n    c = SocketClient(address)\n  File \"/home/tnn/miniconda3/envs/tnn1/lib/python3.7/multiprocessing/connection.py\", line 620, in SocketClient\n    s.connect(address)\nFileNotFoundError: [Errno 2] No such file or directory\n\"\"\"",
      "\nThe above exception was the direct cause of the following exception:\n",
      "\u001b[0;31mFileNotFoundError\u001b[0m                         Traceback (most recent call last)",
      "\u001b[0;32m/tmp/ipykernel_1804274/1445641197.py\u001b[0m in \u001b[0;36m<module>\u001b[0;34m\u001b[0m\n\u001b[1;32m     42\u001b[0m         trial_args = [\n\u001b[1;32m     43\u001b[0m             (i, estimator, num_actions, num_samples) for i in range(num_trials)]\n\u001b[0;32m---> 44\u001b[0;31m         \u001b[0mpool\u001b[0m\u001b[0;34m.\u001b[0m\u001b[0mstarmap\u001b[0m\u001b[0;34m(\u001b[0m\u001b[0mrun_trial\u001b[0m\u001b[0;34m,\u001b[0m \u001b[0mtrial_args\u001b[0m\u001b[0;34m)\u001b[0m\u001b[0;34m\u001b[0m\u001b[0;34m\u001b[0m\u001b[0m\n\u001b[0m\u001b[1;32m     45\u001b[0m \u001b[0;34m\u001b[0m\u001b[0m\n\u001b[1;32m     46\u001b[0m         \u001b[0merror_ary\u001b[0m \u001b[0;34m=\u001b[0m \u001b[0mnp\u001b[0m\u001b[0;34m.\u001b[0m\u001b[0mhstack\u001b[0m\u001b[0;34m(\u001b[0m\u001b[0merror_list\u001b[0m\u001b[0;34m)\u001b[0m\u001b[0;34m\u001b[0m\u001b[0;34m\u001b[0m\u001b[0m\n",
      "\u001b[0;32m~/miniconda3/envs/tnn1/lib/python3.7/multiprocessing/pool.py\u001b[0m in \u001b[0;36mstarmap\u001b[0;34m(self, func, iterable, chunksize)\u001b[0m\n\u001b[1;32m    274\u001b[0m         \u001b[0;31m`\u001b[0m\u001b[0mfunc\u001b[0m\u001b[0;31m`\u001b[0m \u001b[0;32mand\u001b[0m \u001b[0;34m(\u001b[0m\u001b[0ma\u001b[0m\u001b[0;34m,\u001b[0m \u001b[0mb\u001b[0m\u001b[0;34m)\u001b[0m \u001b[0mbecomes\u001b[0m \u001b[0mfunc\u001b[0m\u001b[0;34m(\u001b[0m\u001b[0ma\u001b[0m\u001b[0;34m,\u001b[0m \u001b[0mb\u001b[0m\u001b[0;34m)\u001b[0m\u001b[0;34m.\u001b[0m\u001b[0;34m\u001b[0m\u001b[0;34m\u001b[0m\u001b[0m\n\u001b[1;32m    275\u001b[0m         '''\n\u001b[0;32m--> 276\u001b[0;31m         \u001b[0;32mreturn\u001b[0m \u001b[0mself\u001b[0m\u001b[0;34m.\u001b[0m\u001b[0m_map_async\u001b[0m\u001b[0;34m(\u001b[0m\u001b[0mfunc\u001b[0m\u001b[0;34m,\u001b[0m \u001b[0miterable\u001b[0m\u001b[0;34m,\u001b[0m \u001b[0mstarmapstar\u001b[0m\u001b[0;34m,\u001b[0m \u001b[0mchunksize\u001b[0m\u001b[0;34m)\u001b[0m\u001b[0;34m.\u001b[0m\u001b[0mget\u001b[0m\u001b[0;34m(\u001b[0m\u001b[0;34m)\u001b[0m\u001b[0;34m\u001b[0m\u001b[0;34m\u001b[0m\u001b[0m\n\u001b[0m\u001b[1;32m    277\u001b[0m \u001b[0;34m\u001b[0m\u001b[0m\n\u001b[1;32m    278\u001b[0m     def starmap_async(self, func, iterable, chunksize=None, callback=None,\n",
      "\u001b[0;32m~/miniconda3/envs/tnn1/lib/python3.7/multiprocessing/pool.py\u001b[0m in \u001b[0;36mget\u001b[0;34m(self, timeout)\u001b[0m\n\u001b[1;32m    655\u001b[0m             \u001b[0;32mreturn\u001b[0m \u001b[0mself\u001b[0m\u001b[0;34m.\u001b[0m\u001b[0m_value\u001b[0m\u001b[0;34m\u001b[0m\u001b[0;34m\u001b[0m\u001b[0m\n\u001b[1;32m    656\u001b[0m         \u001b[0;32melse\u001b[0m\u001b[0;34m:\u001b[0m\u001b[0;34m\u001b[0m\u001b[0;34m\u001b[0m\u001b[0m\n\u001b[0;32m--> 657\u001b[0;31m             \u001b[0;32mraise\u001b[0m \u001b[0mself\u001b[0m\u001b[0;34m.\u001b[0m\u001b[0m_value\u001b[0m\u001b[0;34m\u001b[0m\u001b[0;34m\u001b[0m\u001b[0m\n\u001b[0m\u001b[1;32m    658\u001b[0m \u001b[0;34m\u001b[0m\u001b[0m\n\u001b[1;32m    659\u001b[0m     \u001b[0;32mdef\u001b[0m \u001b[0m_set\u001b[0m\u001b[0;34m(\u001b[0m\u001b[0mself\u001b[0m\u001b[0;34m,\u001b[0m \u001b[0mi\u001b[0m\u001b[0;34m,\u001b[0m \u001b[0mobj\u001b[0m\u001b[0;34m)\u001b[0m\u001b[0;34m:\u001b[0m\u001b[0;34m\u001b[0m\u001b[0;34m\u001b[0m\u001b[0m\n",
      "\u001b[0;31mFileNotFoundError\u001b[0m: [Errno 2] No such file or directory"
     ]
    }
   ],
   "source": [
    "\n",
    "manager = multiprocessing.Manager()\n",
    "error_list = manager.list()\n",
    "\n",
    "def run_trial(\n",
    "        i_trial, estimator, num_actions, num_samples, action_mus_true=None):\n",
    "    \n",
    "    random.seed(10000 + i_trial)\n",
    "    np.random.seed(10000 + i_trial)\n",
    "    \n",
    "    # # set action_means\n",
    "    if not action_mus_true:\n",
    "        action_mus_true = 0.02 * (0.05 - 0.02)*np.random.rand(num_actions)\n",
    "        \n",
    "    mu_max = np.max(action_mus_true)\n",
    "    \n",
    "    # generate rewards\n",
    "    action_rewards = np.random.binomial(\n",
    "        1, action_mus_true, (num_samples, num_actions))\n",
    "\n",
    "    mu_est = estimator(action_rewards, num_actions, num_samples)\n",
    "\n",
    "    error_list.append(mu_max - mu_est)    \n",
    "\n",
    "# params\n",
    "num_actions = 30\n",
    "num_samples = 10\n",
    "num_trials = 1000\n",
    "\n",
    "est_bias_dict = defaultdict(list)\n",
    "est_var_dict = defaultdict(list)\n",
    "est_mse_dict = defaultdict(list)\n",
    "\n",
    "pool = multiprocessing.Pool()\n",
    "\n",
    "est_name_ary = [\"max\"]\n",
    "num_samples_ary = np.arange(1000, 11000, 1000)\n",
    "for est_name in est_name_ary:\n",
    "    start_time = time.time()\n",
    "    print(f\"\\n-> est_name = {est_name}\")\n",
    "    estimator = create_estimator(est_name)\n",
    "\n",
    "    for num_samples in num_samples_ary:\n",
    "        trial_args = [\n",
    "            (i, estimator, num_actions, num_samples) for i in range(num_trials)]\n",
    "        pool.starmap(run_trial, trial_args)\n",
    "\n",
    "        error_ary = np.hstack(error_list)\n",
    "        est_bias = np.mean(error_ary)\n",
    "        est_var = np.var(error_ary, ddof=1)\n",
    "        est_mse = est_bias**2 + est_var\n",
    "        \n",
    "        est_bias_dict[est_name].append(est_bias)\n",
    "        est_var_dict[est_name].append(est_var)\n",
    "        est_mse_dict[est_name].append(est_mse)\n",
    "        \n",
    "        error_list[:] = []\n",
    "        \n",
    "    end_time = time.time()\n",
    "    print(f\"it takes {end_time-start_time:0.4f}\")\n"
   ]
  },
  {
   "cell_type": "code",
   "execution_count": null,
   "id": "889abe23-23e3-4dc8-894e-3f7b9cf0aa74",
   "metadata": {},
   "outputs": [],
   "source": [
    "fig, axes = fig, axes = plt.subplots(\n",
    "        nrows=2, ncols=2, sharex=True, sharey=False, figsize=(8,8))\n",
    "# axes = [axes]\n",
    "axes = axes.ravel()\n",
    "\n",
    "est_name_ary = [\"haver\", \"weightedms\", \"double\"]\n",
    "est_name_ary = [\"max\"]\n",
    "x_ary = num_samples_ary\n",
    "for est_name in est_name_ary:\n",
    "    axes[0].plot(x_ary, est_bias_dict[est_name], label=est_name)\n",
    "    axes[1].plot(x_ary, np.abs(est_bias_dict[est_name]), label=est_name)\n",
    "    axes[2].plot(x_ary, est_var_dict[est_name], label=est_name)\n",
    "    axes[3].plot(x_ary, est_mse_dict[est_name], label=est_name)\n",
    "\n",
    "axes[0].set_title(\"mse\")\n",
    "axes[1].set_title(\"bias\")\n",
    "axes[2].set_title(\"var\")\n",
    "axes[0].legend(bbox_to_anchor=(1.05, 1.0), loc='upper left')\n",
    "axes[1].legend(bbox_to_anchor=(1.05, 1.0), loc='upper left')\n",
    "axes[2].legend(bbox_to_anchor=(1.05, 1.0), loc='upper left')\n",
    "plt.show()"
   ]
  }
 ],
 "metadata": {
  "kernelspec": {
   "display_name": "Python 3 (ipykernel)",
   "language": "python",
   "name": "python3"
  },
  "language_info": {
   "codemirror_mode": {
    "name": "ipython",
    "version": 3
   },
   "file_extension": ".py",
   "mimetype": "text/x-python",
   "name": "python",
   "nbconvert_exporter": "python",
   "pygments_lexer": "ipython3",
   "version": "3.7.16"
  }
 },
 "nbformat": 4,
 "nbformat_minor": 5
}
