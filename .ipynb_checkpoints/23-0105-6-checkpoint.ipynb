{
 "cells": [
  {
   "cell_type": "code",
   "execution_count": 1,
   "id": "e78ad439-8922-4a8d-940d-1ef412fa4943",
   "metadata": {
    "tags": []
   },
   "outputs": [
    {
     "name": "stderr",
     "output_type": "stream",
     "text": [
      "WARNING: using ProgressMeter.update! in module Main conflicts with an existing identifier.\n"
     ]
    }
   ],
   "source": [
    "\"\"\"\n",
    "trying to run bandits and see the performance of the estimator.\n",
    "\n",
    "I want to see the failure of the maximum estimator.\n",
    "Lets set T = sqrt(K) and see if it fails.\n",
    "\"\"\"\n",
    "\n",
    "using Infiltrator\n",
    "\n",
    "include(\"./KjBandits.jl\")\n",
    "using ProgressMeter\n"
   ]
  },
  {
   "cell_type": "code",
   "execution_count": 2,
   "id": "4459b5e5-0e1a-4034-9e79-b2f02faf4a36",
   "metadata": {
    "tags": []
   },
   "outputs": [
    {
     "data": {
      "text/plain": [
       "algo_factory (generic function with 1 method)"
      ]
     },
     "execution_count": 2,
     "metadata": {},
     "output_type": "execute_result"
    }
   ],
   "source": [
    "function problem_factory(problem_name::String, σ²::Real, seed::UInt32=987; K=-1, alpha=1.0, Delta=0.1)\n",
    "    if     problem_name == \"linear\"\n",
    "        problem = Bandit(collect(0.9:-0.1:0.0), σ², seed)\n",
    "    elseif     problem_name == \"linear_K100\"\n",
    "        problem = Bandit(collect(LinRange(1,0,100)), σ², seed)\n",
    "    elseif     problem_name == \"linear_K20\"\n",
    "        problem = Bandit(collect(LinRange(1,0,20)), σ², seed)\n",
    "    elseif problem_name == \"linear_K2\"\n",
    "        problem = Bandit([0.9,0.5], σ², seed)\n",
    "    elseif problem_name == \"linear_K2_custom\"\n",
    "        problem = Bandit([0.9,0.3], σ², seed)\n",
    "    elseif problem_name == \"poly_K20\"\n",
    "        Delta_ary = ((1:20) ./ 20) .^ alpha\n",
    "        mu = -Delta_ary\n",
    "        mu[1] = 0.0\n",
    "        problem = Bandit(mu, σ², seed)\n",
    "    elseif problem_name == \"equal_K20\"\n",
    "        Delta_ary = Delta*ones(20)\n",
    "        mu = -Delta_ary\n",
    "        mu[1] = 0.0\n",
    "        problem = Bandit(mu, σ², seed)\n",
    "    elseif problem_name == \"equal\"\n",
    "#        Delta_ary = (.1*2)*ones(K) \n",
    "        Delta_ary = (.1*16)*ones(K) \n",
    "        mu = -Delta_ary\n",
    "        mu[1] = 0.0\n",
    "        problem = Bandit(mu, σ², seed)\n",
    "    elseif problem_name == \"allbest\"\n",
    "        mu = zeros(K)\n",
    "        problem = Bandit(mu, σ², seed)\n",
    "    elseif problem_name == \"alpha_frac_single_gap\"\n",
    "        alphaK = Int(floor(0.7*K))\n",
    "        Delta_ary = (.1*16)*ones(K) \n",
    "        mu = -Delta_ary\n",
    "        for i in 1:alphaK\n",
    "            mu[i] = 0.0\n",
    "        end\n",
    "        problem = Bandit(mu, σ², seed)\n",
    "    end\n",
    "    problem\n",
    "end\n",
    "\n",
    "function estimator_factory(name, σ², mu=Float64[], seed=123)\n",
    "    if (name == \"avg\")\n",
    "        est = Average()\n",
    "    elseif name == \"topavg\"\n",
    "        est = TopAverage()\n",
    "    elseif name == \"max\"\n",
    "        est = Max()\n",
    "    elseif name == \"weighted_100\"\n",
    "        est = Weighted(σ², 100, seed)\n",
    "    elseif name == \"weightedms\"\n",
    "        est = WeightedMs(σ²)\n",
    "    elseif name == \"weightedms-gen\"\n",
    "        est = WeightedMsGen(σ²,3)\n",
    "    elseif name == \"weightedms_4\"\n",
    "        est = WeightedMs(σ²,4)\n",
    "    elseif name == \"naiveoracle\"\n",
    "        est = NaiveOracle(mu)\n",
    "    elseif name == \"haver\"\n",
    "        est = Haver(σ²,0.05) # 0.01, 0.05, 0.10\n",
    "    else\n",
    "        @error \"value error\"\n",
    "    end\n",
    "    est\n",
    "end\n",
    "\n",
    "\n",
    "function algo_factory(algo_name::String, problem::Bandit, seed)\n",
    "    if algo_name == \"ucb\"\n",
    "        algo = Ucb(problem.K, problem.σ², seed=seed)\n",
    "    elseif algo_name == \"sr\"\n",
    "        algo = Rejects(problem.K, seed)\n",
    "    elseif algo_name == \"uniform\"\n",
    "        algo = Uniform(problem.K, seed)\n",
    "    else\n",
    "        @error \"value error\"\n",
    "    end\n",
    "    algo\n",
    "end\n"
   ]
  },
  {
   "cell_type": "code",
   "execution_count": 5,
   "id": "c7a7ac05-d996-4f52-8d19-e594dd4d1a0d",
   "metadata": {
    "tags": []
   },
   "outputs": [
    {
     "name": "stdout",
     "output_type": "stream",
     "text": [
      "estimator_names = [\"topavg\", \"naiveoracle\", \"avg\", \"max\", \"weightedms_4\", \"haver\"]\n",
      "opt = (σ² = 1.0, dataseed = 313, algoseed = 789, n_trials = 200, algo_name = \"uniform\", problem_name = \"allbest\", K_ary = [8, 16, 32, 64, 128, 256, 512, 1024, 2048])\n"
     ]
    },
    {
     "name": "stderr",
     "output_type": "stream",
     "text": [
      "\u001b[32mProgress:   1%|▍                                        |  ETA: 0:03:13\u001b[39m"
     ]
    },
    {
     "ename": "LoadError",
     "evalue": "InterruptException:",
     "output_type": "error",
     "traceback": [
      "InterruptException:",
      "",
      "Stacktrace:",
      " [1] macro expansion",
      "   @ In[5]:39 [inlined]",
      " [2] top-level scope",
      "   @ ~/.julia/packages/ProgressMeter/sN2xr/src/ProgressMeter.jl:938"
     ]
    }
   ],
   "source": [
    "opt = (σ² = (1.0)^2, \n",
    "       dataseed=313, #123\n",
    "       algoseed=789,\n",
    "       N = 20,\n",
    "       n_trials = 200, #50, #1000, # 200\n",
    "       algo_name = \"uniform\", # \"ucb\", # \"ucb\", \"sr\", \"uniform\"\n",
    "       problem_name = \"allbest\", #\"equal\", \"allbest\", #\"linear_K20\" #\"linear\", \"linear_K2_custom\", \"linear_K2\"\n",
    "       K_ary = 2 .^ (3:11), # 3:8, 3:10\n",
    ")\n",
    "#estimator_names = [\"haver\", \"naiveoracle\", \"avg\", \"max\", \"weighted_100\", \"weightedms_4\", ]\n",
    "estimator_names = [\"topavg\", \"naiveoracle\", \"avg\", \"max\", \"weightedms_4\", \"haver\"]\n",
    "@show estimator_names\n",
    "@show opt\n",
    "\n",
    "hatvalues = zeros(opt.n_trials, length(opt.K_ary), length(estimator_names))\n",
    "global estimators\n",
    "global i_t_ary\n",
    "rng_data = MersenneTwister(opt.dataseed)\n",
    "rng_algo = MersenneTwister(opt.algoseed) \n",
    "rng_algo2 = MersenneTwister(opt.algoseed*31 + 1)\n",
    "algo = []\n",
    "problem = []\n",
    "@showprogress for i_try = 1:opt.n_trials\n",
    "#    global algo, problem\n",
    "    myseed = rand(rng_data, UInt32)\n",
    "\n",
    "    for i_K in eachindex(opt.K_ary)\n",
    "        global problem, algo\n",
    "        K = opt.K_ary[i_K]\n",
    "\n",
    "        problem = problem_factory(opt.problem_name, opt.σ²,  myseed, K=K, alpha=NaN, Delta=NaN)\n",
    "\n",
    "        algo = algo_factory(opt.algo_name, problem, rand(rng_algo, UInt32))\n",
    "\n",
    "        myseed2 = rand(rng_algo2, UInt32)\n",
    "        estimators = [ estimator_factory(name, opt.σ², problem.μ, myseed2) for name in estimator_names]\n",
    "\n",
    "        # T = convert(Int64, ceil(K^(1.5))) # 1.5 , 2.0\n",
    "        T = opt.N*K\n",
    "        for t in 1:T\n",
    "            i_t = next_arm(algo)\n",
    "            reward = pull(problem, i_t)\n",
    "            update!(algo, i_t, reward)\n",
    "        end\n",
    "\n",
    "        for i in eachindex(estimators)\n",
    "            hatvalues[i_try, i_K, i] = estimate_value(estimators[i], algo)\n",
    "        end\n",
    "        @assert maximum(problem.μ) == 0.0\n",
    "    end\n",
    "    #- compute the bias and the MSE\n",
    "end\n",
    "bias = meansqueeze(hatvalues, 1) # n_alphas x n_estimators\n",
    "mse = meansqueeze(hatvalues .^ 2, 1)\n",
    "mae = meansqueeze(abs.(hatvalues), 1)\n"
   ]
  },
  {
   "cell_type": "code",
   "execution_count": 4,
   "id": "e4c1e316-bb47-4d97-b939-4e79f3ffb03b",
   "metadata": {
    "tags": []
   },
   "outputs": [
    {
     "ename": "LoadError",
     "evalue": "UndefVarError: `mse` not defined",
     "output_type": "error",
     "traceback": [
      "UndefVarError: `mse` not defined",
      "",
      "Stacktrace:",
      " [1] top-level scope",
      "   @ In[4]:14"
     ]
    }
   ],
   "source": [
    "using Plots\n",
    "plotly()\n",
    "\n",
    "# x = opt.Deltas\n",
    "# i = 1; plot(x, bias[:,i], label=estimator_names[i])\n",
    "# i = 2; plot!(x, bias[:,i], label=estimator_names[i])\n",
    "# i = 3; plot!(x, bias[:,i], label=estimator_names[i])\n",
    "# i = 4; plot!(x, bias[:,i], label=estimator_names[i])\n",
    "# i = 5; plot!(x, bias[:,i], label=estimator_names[i])\n",
    "# i = 6; plot!(x, bias[:,i], label=estimator_names[i])\n",
    "# title!(\"bias\")\n",
    "\n",
    "x = opt.K_ary\n",
    "i = 1; plot(log.(x), log.(mse[:,i]), label=estimator_names[i],linewidth=3)\n",
    "i = 2; plot!(log.(x), log.(mse[:,i]), label=estimator_names[i],linewidth=3)\n",
    "i = 3; plot!(log.(x), log.(mse[:,i]), label=estimator_names[i],linewidth=3) \n",
    "i = 4; plot!(log.(x), log.(mse[:,i]), label=estimator_names[i],linewidth=3)\n",
    "i = 5; plot!(log.(x), log.(mse[:,i]), label=estimator_names[i],linewidth=3)\n",
    "i = 6; plot!(log.(x), log.(mse[:,i]), label=estimator_names[i],linewidth=3, \n",
    "    xlabel=\"log(K)\", ylabel=\"log(MSE)\", legend=:bottomleft)  \n",
    "title!(\"mse\")"
   ]
  },
  {
   "cell_type": "code",
   "execution_count": null,
   "id": "0fa05f05-5a13-49e1-95d1-e0d89e5f9807",
   "metadata": {},
   "outputs": [],
   "source": []
  }
 ],
 "metadata": {
  "@webio": {
   "lastCommId": "a633e0bb-5928-4b1a-b91b-891997ac7af2",
   "lastKernelId": "97d3e87c-22e9-4217-862e-51c7f239f771"
  },
  "kernelspec": {
   "display_name": "Julia 1.9.2",
   "language": "julia",
   "name": "julia-1.9"
  },
  "language_info": {
   "file_extension": ".jl",
   "mimetype": "application/julia",
   "name": "julia",
   "version": "1.9.2"
  }
 },
 "nbformat": 4,
 "nbformat_minor": 5
}
