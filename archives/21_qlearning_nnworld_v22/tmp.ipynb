{
 "cells": [
  {
   "cell_type": "code",
   "execution_count": 1,
   "id": "e4be3282-e93f-4155-943d-50fc540f9f92",
   "metadata": {
    "tags": []
   },
   "outputs": [],
   "source": [
    "import numpy as np\n",
    "np.set_printoptions(precision=4, suppress=True)\n",
    "\n",
    "from estimators import *\n"
   ]
  },
  {
   "cell_type": "code",
   "execution_count": 27,
   "id": "015f1cf3-f053-4efe-b5ba-fd853480eda5",
   "metadata": {
    "tags": []
   },
   "outputs": [
    {
     "name": "stdout",
     "output_type": "stream",
     "text": [
      "\n",
      "-> max_estimator\n",
      "-0.0004\n",
      "haver_estimator\n",
      "[-0.0001 -0.001   0.0002 -0.0029 -5.0015 -4.9991 -4.998  -5.0024]\n",
      "[  77.  134. 2213.   21.   11.   18.   15.   11.]\n",
      "0.00003\n",
      "[0, 2]\n"
     ]
    }
   ],
   "source": [
    "\n",
    "num_depths = 2\n",
    "num_widths = 8\n",
    "num_actions = num_widths\n",
    "action_sigma = 0.01\n",
    "\n",
    "args = dict()\n",
    "args[\"action_sigma\"] = 1\n",
    "args[\"haver_alpha\"] = 1.0\n",
    "args[\"haver_delta\"] = 0.01\n",
    "args[\"haver_const\"] = 0.1\n",
    "args[\"weightedms_num_data\"] = 1000\n",
    "\n",
    "print(f\"\\n-> max_estimator\")\n",
    "max_action_muhats = np.array([-0.00119, -0.0004,  -0.00232, -0.00229, -4.99928, -4.99792, -4.99743, -5.00378])\n",
    "max_action_nvisits = np.array([  65., 2262.,  100.,   27.,   15.,   13.,    9.,    9.])\n",
    "max_mu_est = max_estimator(max_action_muhats)\n",
    "print(max_mu_est)\n",
    "\n",
    "print(f\"haver_estimator\")\n",
    "haver_action_muhats = np.array([-0.00011, -0.00099,  0.00016, -0.00285, -5.00147, -4.99913, -4.99799, -5.0024 ])\n",
    "haver_action_nvisits = np.array([  77.,  134., 2213.,   21.,   11.,   18.,   15.,   11.])\n",
    "haver_action_sigmahats = action_sigma*np.ones(num_actions)\n",
    "print(haver_action_muhats)\n",
    "print(haver_action_nvisits)\n",
    "# print(haver_action_sigmahats)\n",
    "\n",
    "haver_mu_est, mu_bset = haver_estimator(\n",
    "    haver_action_muhats, haver_action_sigmahats, \n",
    "    num_actions, haver_action_nvisits, args)\n",
    "                               \n",
    "print(f\"{haver_mu_est:0.05f}\")\n",
    "print(mu_bset)\n"
   ]
  }
 ],
 "metadata": {
  "kernelspec": {
   "display_name": "Python 3",
   "language": "python",
   "name": "python3"
  },
  "language_info": {
   "codemirror_mode": {
    "name": "ipython",
    "version": 3
   },
   "file_extension": ".py",
   "mimetype": "text/x-python",
   "name": "python",
   "nbconvert_exporter": "python",
   "pygments_lexer": "ipython3",
   "version": "3.7.16"
  }
 },
 "nbformat": 4,
 "nbformat_minor": 5
}
