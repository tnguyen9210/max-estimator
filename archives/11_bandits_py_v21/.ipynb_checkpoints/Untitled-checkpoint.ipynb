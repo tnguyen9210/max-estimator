{
 "cells": [
  {
   "cell_type": "code",
   "execution_count": 1,
   "id": "b0b61783-4d19-4296-afd5-3c375fd900ee",
   "metadata": {
    "tags": []
   },
   "outputs": [],
   "source": [
    "import numpy as np\n"
   ]
  },
  {
   "cell_type": "code",
   "execution_count": 2,
   "id": "d26c244d-f90e-4393-8e09-51e5e95b7d2d",
   "metadata": {
    "tags": []
   },
   "outputs": [
    {
     "name": "stdout",
     "output_type": "stream",
     "text": [
      "(1000,)\n",
      "0.9659399705631371\n"
     ]
    }
   ],
   "source": [
    "num_samples = 1000\n",
    "a  = np.random.normal(0, 1, size=(num_samples))\n",
    "print(a.shape)\n",
    "a_std = np.std(a, ddof=1)\n",
    "print(a_std)"
   ]
  }
 ],
 "metadata": {
  "kernelspec": {
   "display_name": "Python 3 (ipykernel)",
   "language": "python",
   "name": "python3"
  },
  "language_info": {
   "codemirror_mode": {
    "name": "ipython",
    "version": 3
   },
   "file_extension": ".py",
   "mimetype": "text/x-python",
   "name": "python",
   "nbconvert_exporter": "python",
   "pygments_lexer": "ipython3",
   "version": "3.7.16"
  }
 },
 "nbformat": 4,
 "nbformat_minor": 5
}
