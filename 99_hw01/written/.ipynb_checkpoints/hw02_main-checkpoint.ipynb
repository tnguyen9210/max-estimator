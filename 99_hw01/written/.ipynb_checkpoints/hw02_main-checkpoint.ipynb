{
 "cells": [
  {
   "cell_type": "markdown",
   "id": "0133a562-a959-4abf-8529-d5ebf70dab66",
   "metadata": {},
   "source": [
    "Problem 4."
   ]
  },
  {
   "cell_type": "code",
   "execution_count": 1,
   "id": "2eb093d6-19dd-4e62-8027-cd280969eac7",
   "metadata": {},
   "outputs": [],
   "source": [
    "import numpy as np\n",
    "import scipy.stats as stats\n",
    "from sklearn.linear_model import LinearRegression\n",
    "\n",
    "import matplotlib.pyplot as plt"
   ]
  },
  {
   "cell_type": "markdown",
   "id": "6d4187ce-ecb5-4b67-b7f7-5f364d81f695",
   "metadata": {},
   "source": [
    "Problem 4.a."
   ]
  },
  {
   "cell_type": "code",
   "execution_count": 2,
   "id": "81747412-7072-40ff-8b8e-06ac425c426b",
   "metadata": {},
   "outputs": [],
   "source": [
    "def generate_data(num_samples, theta, seed=12345):\n",
    "    x_train = []\n",
    "    y_train = []\n",
    "    cnt = 0\n",
    "    \n",
    "    np.random.seed(seed)\n",
    "    # uniform_dist = stats.uniform(loc=[-1,-1], scale=[1,1])\n",
    "    while cnt < num_samples:\n",
    "        # x_i = uniform_dist.rvs(size=(1,2))\n",
    "        x_i = np.random.uniform(low=0, high=1)\n",
    "        s = 1 if x_i >= theta else 0\n",
    "        y_i = 2*s - 1\n",
    "        x_train.append(x_i)\n",
    "        y_train.append(y_i)\n",
    "        cnt += 1\n",
    "        \n",
    "    x_train = np.vstack(x_train)\n",
    "    y_train = np.vstack(y_train)\n",
    "    # print(x_train[:10])\n",
    "    # print(x_train.shape)\n",
    "    # print(y_train.shape)\n",
    "    return x_train, y_train\n",
    "\n",
    "# parameters\n",
    "num_samples = 100\n",
    "theta_true = 0.5\n",
    "\n",
    "# generate data\n",
    "x_train, y_train = generate_data(num_samples, theta_true, seed=12345) \n",
    "# print(x_train.shape)\n",
    "# print(y_train)\n",
    "\n",
    "# plot\n",
    "# print(np.sum(y_train>=0)/num_samples)\n",
    "ypos_idxes = np.where(y_train >= 0)\n",
    "yneg_idxes = np.where(y_train < 0)\n",
    "num_ypos = np.sum(y_train >= 0)\n",
    "num_yneg = np.sum(y_train < 0)\n"
   ]
  },
  {
   "cell_type": "code",
   "execution_count": 3,
   "id": "8f26580f-7be4-4cee-85f0-1988c85468f9",
   "metadata": {},
   "outputs": [
    {
     "name": "stdout",
     "output_type": "stream",
     "text": [
      "[8, 16, 32, 64, 128, 256, 512, 1024]\n"
     ]
    }
   ],
   "source": [
    "num_repeats = 200\n",
    "\n",
    "num_samples_list = [2**i for i in range(3,10+1)]\n",
    "zm = []\n",
    "print(num_samples_list)\n",
    "for midx, m in enumerate(num_samples_list):\n",
    "    repeats_error = 0\n",
    "    for ridx in range(num_repeats):\n",
    "        # sample data points\n",
    "        x_train, y_train = generate_data(m, theta_true, seed=10000+ridx+midx) \n",
    "        \n",
    "        # compute theta_erm which is computed as the minimum of pos points\n",
    "        x_pos = x_train[y_train >= 0]\n",
    "        if len(x_pos) == 0: \n",
    "            theta_erm = 1\n",
    "        else:\n",
    "            theta_erm = min(x_pos)  \n",
    "        \n",
    "        # compute error(h,D)\n",
    "        error_d = np.abs(theta_true - theta_erm) \n",
    "        \n",
    "        # print(f\"\\n-> {r}\")\n",
    "        # print(theta_erm)\n",
    "        # print(error_d)\n",
    "        repeats_error += error_d\n",
    "        \n",
    "    # zm[midx] = repeats_error/num_repeats\n",
    "    zm.append(repeats_error/num_repeats)"
   ]
  },
  {
   "cell_type": "markdown",
   "id": "5763e594-4c51-40ff-8771-de6baaa88909",
   "metadata": {},
   "source": [
    "Problem 4.b."
   ]
  },
  {
   "cell_type": "code",
   "execution_count": 4,
   "id": "2c0962d5-6709-44bf-8dac-0b42adaeffa1",
   "metadata": {},
   "outputs": [
    {
     "name": "stdout",
     "output_type": "stream",
     "text": [
      "[-0.96914814]\n"
     ]
    }
   ],
   "source": [
    "x_lin = np.log(num_samples_list)[:,None]\n",
    "y_lin = np.log(zm)\n",
    "reg = LinearRegression().fit(x_lin, y_lin)\n",
    "print(reg.coef_)"
   ]
  },
  {
   "cell_type": "code",
   "execution_count": 5,
   "id": "7e8c4892-ab9b-4baf-8e9c-07316d400031",
   "metadata": {},
   "outputs": [
    {
     "data": {
      "image/png": "[encoded data removed]",
      "text/plain": [
       "<Figure size 300x300 with 1 Axes>"
      ]
     },
     "metadata": {},
     "output_type": "display_data"
    }
   ],
   "source": [
    "fig, axes = plt.subplots(1, 1, figsize=(3,3))\n",
    "axes = [axes]\n",
    "axes[0].plot(np.log(num_samples_list), np.log(zm), color=\"blue\", label=f\"slope={reg.coef_[0]:0.4f}\")\n",
    "axes[0].legend(loc=\"upper right\")\n",
    "plt.show()"
   ]
  }
 ],
 "metadata": {
  "kernelspec": {
   "display_name": "Python 3 (ipykernel)",
   "language": "python",
   "name": "python3"
  },
  "language_info": {
   "codemirror_mode": {
    "name": "ipython",
    "version": 3
   },
   "file_extension": ".py",
   "mimetype": "text/x-python",
   "name": "python",
   "nbconvert_exporter": "python",
   "pygments_lexer": "ipython3",
   "version": "3.10.8"
  }
 },
 "nbformat": 4,
 "nbformat_minor": 5
}
