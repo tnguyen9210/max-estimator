{
 "cells": [
  {
   "cell_type": "markdown",
   "id": "ef12e19f",
   "metadata": {},
   "source": [
    "### Problem 1 \n",
    "\n",
    "#### Problem 1a\n",
    "\n",
    "<br/>\n",
    "a1) The max uncertainty $F_1(p) = 1 - \\max_{i=1}^k(p_i)$ is concave.\n",
    "\n",
    "We set $f_i(p) = p^Te_i = p_i$, where is $e_i$ is a $k$-dim one-hot vector only the $i$ element is 1.\n",
    "\n",
    "$f_i(p)$ is an affine function so it is convex. \n",
    "\n",
    "We have a property that max of convex functions is convex, thus $\\max_{i=1}^k\\{p_i\\} = \\max_{i=1}^k\\{f_i(p)\\}$ is convex. \n",
    "\n",
    "Therefore, $1 - \\max_{i=1}^k\\{p_i\\}$ is a concave function.\n",
    "\n",
    "<br/>\n",
    "a2) The Gini-index based uncertainy $F_2(p) = 1 - \\sum_{i=1}^kp_i^2$ is concave.\n",
    "\n",
    "We have $h(x) = x^2$ is convex because $h''(x) = 2 \\ge 0$.\n",
    "\n",
    "We set $f_i(p) = p^Te_i = p_i$, where is $e_i$ is a $k$-dim one-hot vector only the $i$ element is 1.\n",
    "\n",
    "$f_i(p)$ is an affine function so it is convex.\n",
    "\n",
    "Since $h(x)$ and $f_i(p)$ are convex, the composition $g_i(p) = h(f_i(p)) = p_i^2$ is convex.\n",
    "\n",
    "We have a property that sum of convex functions is convex, thus $\\sum_{i=1}^k\\{p_i^2\\} = \\sum_{i=1}^k\\{g_i(p)\\}$ is convex. \n",
    "\n",
    "Therefore, $1 - \\sum_{i=1}^k\\{p_i\\}$ is a concave function.\n",
    "\n",
    "<br/>\n",
    "a3) The entropy uncertainty $F_2(p) = \\sum_{i=1}^kp_i \\log(1/p_i)$ is concave.\n",
    "\n",
    "We first prove $h(x) = x\\log x$ is convex.\n",
    "\n",
    "We compute the first and second derivatives\n",
    "\n",
    "$h'(x) = \\log x - 1$ \n",
    "\n",
    "$h''(x) = \\frac{1}{x}$\n",
    "\n",
    "For $x \\in (0,1]$ (domain of $h(x)$), we have $h''(x) = \\frac{1}{x} \\ge 0$, thus $h(x)$ is convex.\n",
    "\n",
    "We set $f_i(p) = p^Te_i = p_i$, where is $e_i$ is a $k$-dim one-hot vector only the $i$ element is 1.\n",
    "\n",
    "$f_i(p)$ is an affine function so it is convex.\n",
    "\n",
    "Since $h(x)$ and $f_i(p)$ are convex, the composition $g_i(p) = h(f_i(p)) = p_i \\log{p_i}$ is convex.\n",
    "\n",
    "We have a property that sum of convex functions is convex, thus $\\sum_{i=1}^k\\{p_i \\log{p_i}\\} = \\sum_{i=1}^k\\{g_i(p)\\}$ is convex. \n",
    "\n",
    "Therefore, $\\sum_{i=1}^kp_i \\log(1/p_i) = - \\sum_{i=1}^k\\{p_i \\log{p_i}\\}$ is a concave function."
   ]
  },
  {
   "cell_type": "markdown",
   "id": "e431042d",
   "metadata": {},
   "source": [
    "#### Problem 1b \n",
    "\n",
    "Using the notation in the lecture slides. \n",
    "\n",
    "From the problem description, we have \n",
    "\n",
    "$p(Y|X=x) = N(f(x),\\sigma^2)$\n",
    "\n",
    "Therefore, we have\n",
    "\n",
    "$\\mathbb{E} [Y | X = x] = f(x)$ \n",
    "\n",
    "$\\mathbb{E} [(Y - f(x))^2 | X = x] = \\sigma^2$\n",
    "\n",
    "Regression function \n",
    "\n",
    "$$\n",
    "\\begin{align}\n",
    "h^*(x) &= \\mathrm{argmin}_{\\hat{y}} \\{\\mathbb{E} [(Y - \\hat{y})^2 | X = x]\\} \\\\\n",
    "     &= \\mathrm{argmin}_{\\hat{y}} \\{\\mathbb{E} [Y^2 - 2Y\\hat{y} + \\hat{y}^2 | X = x]\\} \\\\\n",
    "     &= \\mathrm{argmin}_{\\hat{y}} \\{\\mathbb{E} [Y^2 | X = x] - \\mathbb{E} [2Y\\hat{y}| X = x] + \\mathbb{E} [\\hat{y}^2 | X = x]\\} \\\\\n",
    "     &= \\mathrm{argmin}_{\\hat{y}} \\{- \\mathbb{E} [2Y\\hat{y}| X = x] + \\mathbb{E} [\\hat{y}^2 | X = x]\\} \\qquad (\\mathbb{E} [Y^2 | X = x] \\text{ does not contain } \\hat{y}) \\\\\n",
    "     &= \\mathrm{argmin}_{\\hat{y}} \\{- 2\\hat{y}\\mathbb{E} [Y| X = x] + \\hat{y}^2\\} \\text{  }  \\\\\n",
    "     &= \\mathrm{argmin}_{\\hat{y}} \\{-2\\hat{y}f(x) + \\hat{y}^2\\}\n",
    "\\end{align}\n",
    "$$\n",
    "\n",
    "We set $g(z) = -2zf(x) + z^2$\n",
    "\n",
    "We want to find $\\hat{z}$ that minimizes $g(z)$\n",
    "\n",
    "$g(\\hat{z})$ is a global minium when $\\nabla g(\\hat{z}) = 0$ and $\\nabla^2 g(\\hat{z}) \\ge 0$.\n",
    "\n",
    "$ \\nabla g(\\hat{z}) = -2f(x) + 2\\hat{z} = 0 \\Rightarrow \\hat{z} = f(x)$ \n",
    "\n",
    "$ \\nabla^2 g(\\hat{z}) = 2 > 0$, so $g(\\hat{z})$ is a global minimum.\n",
    "\n",
    "Hence, $h^*(x) = \\mathrm{argmin}_{\\hat{y}} g(\\hat{y}) = f(x)$\n",
    "\n",
    "Bayes risk \n",
    "\n",
    "$ R(h^*(x)) = \\mathbb{E} [(Y - h^*(x))^2 | X = x] = \\mathbb{E} [(Y - f(x))^2 | X = x] = \\sigma^2$"
   ]
  },
  {
   "cell_type": "markdown",
   "id": "a33ed93f-06c1-4cc7-9742-ac484241d112",
   "metadata": {},
   "source": [
    "### Problem 2"
   ]
  },
  {
   "cell_type": "markdown",
   "id": "b409237e-9f3b-4e6e-9a4e-050479f4ed87",
   "metadata": {},
   "source": [
    "#### Import library"
   ]
  },
  {
   "cell_type": "code",
   "execution_count": 1,
   "id": "fbc0cc8e-f2a1-494a-bafb-004a81433d2a",
   "metadata": {},
   "outputs": [],
   "source": [
    "# import library\n",
    "import scipy as sp\n",
    "import numpy as np\n",
    "np.set_printoptions(precision=5, suppress=True)\n",
    "\n",
    "\n",
    "import matplotlib.pyplot as plt\n"
   ]
  },
  {
   "cell_type": "markdown",
   "id": "14f8bbf2-bd3b-4f50-9de5-517938c84c9f",
   "metadata": {},
   "source": [
    "#### Input dataset"
   ]
  },
  {
   "cell_type": "code",
   "execution_count": 2,
   "id": "476dabec",
   "metadata": {},
   "outputs": [],
   "source": [
    "\n",
    "start_year = 1855\n",
    "end_year = 2019\n",
    "split_year = 1971\n",
    "len_train = split_year-start_year\n",
    "len_test = end_year-split_year\n",
    "\n",
    "x = np.arange(start_year, end_year) \n",
    "y_Mendota = np.array([\n",
    "    118, 151, 121, 96, 110, 117, 132, 104, 125, 118, \n",
    "    125, 123, 110, 127, 131, 99, 126, 144, 136, 126, \n",
    "    91, 130, 62, 112, 99, 161, 78, 124, 119, 124, \n",
    "    128, 131, 113, 88, 75, 111, 97, 112, 101, 101, \n",
    "    91, 110, 100, 130, 111, 107, 105, 89, 126, 108, \n",
    "    97, 94, 83, 106, 98, 101, 108, 99, 88, 115, \n",
    "    102, 116, 115, 82, 110, 81, 96, 125, 104, 105, \n",
    "    124, 103, 106, 96, 107, 98, 65, 115, 91, 94, \n",
    "    101, 121, 105, 97, 105, 96, 82, 116, 114,92, \n",
    "    98, 101, 104, 96, 109, 122, 114, 81, 85, 92, \n",
    "    114, 111, 95, 126, 105, 108, 117, 112, 113, 120, \n",
    "    65, 98, 91, 108, 113, 110, 105, 97, 105, 107, \n",
    "    88, 115, 123, 118, 99, 93, 96, 54, 111, 85, \n",
    "    107, 89, 87, 97, 93, 88, 99, 108, 94, 74, \n",
    "    119, 102, 47, 82, 53, 115, 21, 89, 80, 101, \n",
    "    95, 66, 106, 97, 87, 109, 57, 87, 117, 91, \n",
    "    62, 65, 94, 86])\n",
    "\n",
    "y_Monona = np.array([\n",
    "    118, 151, 119, 94, 111, 129, 133, 119, 131, 117, \n",
    "    125, 128, 108, 126, 138, 100, 142, 141, 136, 123, \n",
    "    91, 132, 62, 115, 93, 160, 77, 127, 120, 121, \n",
    "    131, 131, 137, 87, 74, 113, 96, 117, 99, 104, \n",
    "    119, 123, 101, 129, 112, 118, 103, 85, 140, 111, \n",
    "    115, 106, 106, 118, 96, 103, 113, 104, 83, 115, \n",
    "    111, 116, 116, 83, 116, 85, 96, 127, 103, 103, \n",
    "    126, 102, 108, 96, 104, 98, 60, 107, 103, 98, \n",
    "    107, 123, 111, 102, 102, 127, 85, 114, 101, 89, \n",
    "    99, 108, 108, 92, 113, 118, 112, 93, 72, 83, \n",
    "    109, 92, 109, 125, 101, 98, 113, 112, 92, 114, \n",
    "    65, 88, 87, 101, 92, 93, 95, 90, 94, 95, \n",
    "    90, 103, 121, 117, 104, 86, 100, 56, 107, 92, \n",
    "    113, 85, 91, 93, 98, 88, 91, 108, 95, 74, \n",
    "    107, 96, 49, 70, 52, 108, 56, 83, 77, 97, \n",
    "    94, 67, 122, 104, 88, 112, 69, 101, 121, 105, \n",
    "    62, 81, 93, 97])\n"
   ]
  },
  {
   "cell_type": "markdown",
   "id": "8c2ee9b4-6362-4e1e-a069-c425ccf1c881",
   "metadata": {},
   "source": [
    "#### Problem 2a"
   ]
  },
  {
   "cell_type": "code",
   "execution_count": 3,
   "id": "2d647ce1",
   "metadata": {},
   "outputs": [
    {
     "data": {
      "image/png": "[encoded data removed]",
      "text/plain": [
       "<Figure size 432x288 with 1 Axes>"
      ]
     },
     "metadata": {
      "needs_background": "light"
     },
     "output_type": "display_data"
    }
   ],
   "source": [
    "# plot year vs ice days for two lakes\n",
    "fig, ax = plt.subplots(1,1)\n",
    "ax.plot(x, y_Mendota, color='blue', label='Mendota')\n",
    "ax.plot(x, y_Monona, color='red', label='Monona')\n",
    "ax.set_xlim(start_year, end_year+1)\n",
    "# ax.set_xticks(np.arange(start_year, end_year+2, 25))\n",
    "ax.legend()\n",
    "plt.show()"
   ]
  },
  {
   "cell_type": "code",
   "execution_count": 4,
   "id": "5705b71c-0745-4bcb-9fd4-d922c011e971",
   "metadata": {},
   "outputs": [
    {
     "data": {
      "image/png": "[encoded data removed]",
      "text/plain": [
       "<Figure size 432x288 with 1 Axes>"
      ]
     },
     "metadata": {
      "needs_background": "light"
     },
     "output_type": "display_data"
    }
   ],
   "source": [
    "# plot year vs y_Monona-y_Mendota\n",
    "fig, ax = plt.subplots(1,1)\n",
    "ax.plot(x, y_Monona-y_Mendota, color='green', label='Monona-Mendota')\n",
    "ax.set_xlim(start_year, end_year+1)\n",
    "# ax.set_xticks(np.arange(start_year, end_year+2, 25))\n",
    "ax.legend()\n",
    "plt.show()"
   ]
  },
  {
   "cell_type": "markdown",
   "id": "9f195158-ddc9-413a-a7db-961c009b770b",
   "metadata": {},
   "source": [
    "#### Problem 2b"
   ]
  },
  {
   "cell_type": "code",
   "execution_count": 5,
   "id": "c531faeb-659e-46c3-8ed4-badcbd61f981",
   "metadata": {},
   "outputs": [
    {
     "name": "stdout",
     "output_type": "stream",
     "text": [
      "ymean_train_Mendota: 107.18966\n",
      "ystd_train_Mendota: 16.74666\n",
      "ymean_train_Monona: 108.48276\n",
      "ystd_train_Monona: 18.12252\n"
     ]
    }
   ],
   "source": [
    "# split datasets\n",
    "x_train = np.arange(start_year, split_year)\n",
    "x_test = np.arange(split_year, end_year)\n",
    "# print(len_train)\n",
    "# print(len(x_train))\n",
    "\n",
    "y_train_Mendota = y_Mendota[:len_train]\n",
    "y_test_Mendota = y_Mendota[len_train:]\n",
    "\n",
    "y_train_Monona = y_Monona[:len_train]\n",
    "y_test_Monona = y_Monona[len_train:]\n",
    "\n",
    "# compute sample mean and std\n",
    "ymean_train_Mendota = np.sum(y_train_Mendota)/len_train\n",
    "ystd_train_Mendota = np.sqrt(np.sum((y_train_Mendota - ymean_train_Mendota)**2)/(len_train-1))\n",
    "\n",
    "ymean_train_Monona = np.sum(y_train_Monona)/len_train\n",
    "ystd_train_Monona = np.sqrt(np.sum((y_train_Monona - ymean_train_Monona)**2)/(len_train-1))\n",
    "\n",
    "print(f\"ymean_train_Mendota: {ymean_train_Mendota:0.5f}\")\n",
    "print(f\"ystd_train_Mendota: {ystd_train_Mendota:0.5f}\")\n",
    "# print(np.std(y_train_Mendota, ddof=1))\n",
    "\n",
    "print(f\"ymean_train_Monona: {ymean_train_Monona:0.5f}\")\n",
    "print(f\"ystd_train_Monona: {ystd_train_Monona:0.5f}\")\n",
    "# print(np.std(y_train_Monona, ddof=1))"
   ]
  },
  {
   "cell_type": "markdown",
   "id": "24d3de1d-4f1c-4417-89f7-721b1c3ed4f7",
   "metadata": {},
   "source": [
    "#### Problem 2c\n",
    "\n",
    "Compute the gradient of $F$ w.r.t $\\beta$.\n",
    "\n",
    "$$\n",
    "\\begin{align}\n",
    " F(\\beta) \n",
    "    &= \\frac{1}{n}\\sum_{i=1}^n(Z_i^T\\beta - y_i)^2 \\\\\n",
    "    &= \\frac{1}{n}\\|Z\\beta - y\\|_2^2\n",
    "\\end{align}\n",
    "$$  \n",
    "\n",
    "We compute the derivative using the chain rule (simple steps were omitted)\n",
    "\n",
    "$$\n",
    "\\begin{align}\n",
    "\\nabla F(\\beta) \n",
    "    &= \\frac{2}{n}Z^T (Z\\beta - y) \\\\\n",
    "\\end{align}\n",
    "$$\n",
    "\n",
    "Optimal condition:  $\\hat{\\beta}$ needs to satisfy $\\nabla F(\\hat{\\beta}) = 0$.\n",
    "\n",
    "$$\n",
    "\\begin{align}\n",
    "& \\frac{2}{n}Z^T (Z\\hat{\\beta} - y) = 0 \\\\\n",
    "    \\Leftrightarrow \\ & \\hat{\\beta}_{\\mathrm{OLS}} = (Z^TZ)^{-1}Z^Ty\n",
    "\\end{align}\n",
    "$$"
   ]
  },
  {
   "cell_type": "code",
   "execution_count": 6,
   "id": "10fa3acb-2082-466c-8a85-0df81deaed45",
   "metadata": {},
   "outputs": [],
   "source": [
    "# linear regression model with x and Monona features\n",
    "Z_train_lin = np.vstack([np.ones(len_train), x_train, y_train_Monona]).T\n",
    "Z_test_lin = np.vstack([np.ones(len_test), x_test, y_test_Monona]).T\n",
    "y_train_lin = y_train_Mendota\n",
    "y_test_lin = y_test_Mendota\n",
    "# print(Z_train_lin[:5,0])\n",
    "# print(Z_train_lin[:5,1])\n",
    "# print(Z_train_lin[:5,2])\n",
    "# print(Z_train_lin[:5])\n",
    "# print(Z_train_lin.shape)"
   ]
  },
  {
   "cell_type": "code",
   "execution_count": 7,
   "id": "422339f4-f645-4ac4-8c00-004a9296c0a8",
   "metadata": {},
   "outputs": [
    {
     "name": "stdout",
     "output_type": "stream",
     "text": [
      "closed-form betas_ols: [-64.18277   0.04122   0.85295]\n"
     ]
    }
   ],
   "source": [
    "# compute betas using closed-form ols\n",
    "ZZ = np.matmul(Z_train_lin.T, Z_train_lin)\n",
    "Zy = np.matmul(Z_train_lin.T, y_train_lin)\n",
    "betas_ols_lin = np.matmul(np.linalg.inv(ZZ), Zy)\n",
    "print(f\"closed-form betas_ols: {betas_ols_lin}\")"
   ]
  },
  {
   "cell_type": "markdown",
   "id": "ef093d47-6647-4ef8-844e-3335b944d29a",
   "metadata": {},
   "source": [
    "#### Problem 2d"
   ]
  },
  {
   "cell_type": "code",
   "execution_count": 8,
   "id": "a4ab567b-1045-4155-a766-e0890e6ddb39",
   "metadata": {},
   "outputs": [
    {
     "name": "stdout",
     "output_type": "stream",
     "text": [
      "final mse_test_ols: 124.26409\n"
     ]
    }
   ],
   "source": [
    "def compute_mse(Z, y, betas):\n",
    "    return np.average((np.matmul(Z, betas) - y)**2)\n",
    "\n",
    "# compute mse on the test set\n",
    "mse_test_ols_lin = compute_mse(Z_test_lin, y_test_lin, betas_ols_lin)\n",
    "print(f\"final mse_test_ols: {mse_test_ols_lin:0.5f}\")"
   ]
  },
  {
   "cell_type": "markdown",
   "id": "5d64af80-bda3-4691-88dd-d084e9d266ca",
   "metadata": {},
   "source": [
    "#### Problem 2e\n",
    "\n",
    "Derive the gradient of F w.r.t. betas. Shown in (2c)"
   ]
  },
  {
   "cell_type": "code",
   "execution_count": 9,
   "id": "b6abb58e-038f-4312-a445-abf651c31ed3",
   "metadata": {},
   "outputs": [],
   "source": [
    "# derive the gradient of F w.r.t. betas\n",
    "def compute_grad(Z, y, betas):\n",
    "    ZZ = np.matmul(Z.T, Z)\n",
    "    Zy = np.matmul(Z.T, y)\n",
    "    grad = np.matmul(ZZ, betas) - Zy\n",
    "    return 2*grad/len(Z)"
   ]
  },
  {
   "cell_type": "markdown",
   "id": "c0dc9204-4d23-4bc7-b050-982c55655a2e",
   "metadata": {},
   "source": [
    "#### Problem 2f"
   ]
  },
  {
   "cell_type": "code",
   "execution_count": 10,
   "id": "606cd122-0cb8-4470-9268-2d8e1debbea8",
   "metadata": {},
   "outputs": [],
   "source": [
    "# implement gradient descent\n",
    "def train_gd(Z, y, betas_init, num_steps, step_size, tol_eps):\n",
    "    # print(\"\\n-> train_gd\")\n",
    "    betas_cur = betas_init\n",
    "    f_cur = compute_mse(Z, y, betas_cur)\n",
    "    for t in range(num_steps):\n",
    "        # print(\"\\n\")\n",
    "        # print the first 10 iter's objective function value\n",
    "        if t <= 10:\n",
    "            print(f\"step = {t}, f_value = {f_cur:0.5f}\")\n",
    "\n",
    "        grad = compute_grad(Z, y, betas_cur)\n",
    "        betas_new = betas_cur - step_size*grad\n",
    "        # print(grad)\n",
    "        # stop\n",
    "        \n",
    "        f_new = compute_mse(Z, y, betas_new)\n",
    "        f_change = np.abs((f_new - f_cur)/f_cur)\n",
    "        # print(f_change)\n",
    "        \n",
    "        betas_cur = betas_new\n",
    "        f_cur = f_new\n",
    "\n",
    "        if f_change <= tol_eps:\n",
    "            print(f\"step = {t}, f_change {f_change} <= tol_eps {tol_eps}, stop training!\")\n",
    "            break\n",
    "\n",
    "        # if t > 20:\n",
    "        #     stop\n",
    "\n",
    "    return betas_new"
   ]
  },
  {
   "cell_type": "code",
   "execution_count": 11,
   "id": "51c4b8fb-9e74-4455-b33c-fd3d31f798e1",
   "metadata": {},
   "outputs": [
    {
     "name": "stdout",
     "output_type": "stream",
     "text": [
      "step = 0, f_value = 11767.65517\n",
      "step = 1, f_value = 6180350808297761.00000\n",
      "step = 2, f_value = 3330626781514362017829355520.00000\n",
      "step = 3, f_value = 1794894028506587118575291479813882118144.00000\n",
      "step = 4, f_value = 967278769104173365873483249298068984462033106763776.00000\n",
      "step = 5, f_value = 521272120972043412238879630883266682658710817067687108199579648.00000\n",
      "step = 6, f_value = 280916559715608851654352636514580749961818875114591951729043038697177481216.00000\n",
      "step = 7, f_value = 151387558143907265062140486337199351668721352086221462593079477236785839146894849212416.00000\n",
      "step = 8, f_value = 81583630327726434958174489010613345839648776607984658343076983705126390315022020839153329139351552.00000\n",
      "step = 9, f_value = 43965890057650028999671568962895055254266551515442606560899860992541264318058181327749211061735889160846180352.00000\n",
      "step = 10, f_value = 23693472339933773134943563672222839739357693243041270086474725944377742988028044686960277086315424394957149733516348489728.00000\n",
      "final betas_gd: [nan nan nan]\n",
      "final mse_train_gd: nan\n",
      "final mse_test_gd: nan\n"
     ]
    },
    {
     "name": "stderr",
     "output_type": "stream",
     "text": [
      "C:\\Users\\TUANN\\AppData\\Local\\Temp/ipykernel_14820/2194195682.py:2: RuntimeWarning: overflow encountered in square\n",
      "  return np.average((np.matmul(Z, betas) - y)**2)\n",
      "C:\\Users\\TUANN\\AppData\\Local\\Temp/ipykernel_14820/2561926287.py:18: RuntimeWarning: invalid value encountered in double_scalars\n",
      "  f_change = np.abs((f_new - f_cur)/f_cur)\n",
      "C:\\Users\\TUANN\\AppData\\Local\\Temp/ipykernel_14820/295911731.py:5: RuntimeWarning: overflow encountered in matmul\n",
      "  grad = np.matmul(ZZ, betas) - Zy\n",
      "C:\\Users\\TUANN\\AppData\\Local\\Temp/ipykernel_14820/2561926287.py:13: RuntimeWarning: invalid value encountered in subtract\n",
      "  betas_new = betas_cur - step_size*grad\n"
     ]
    }
   ],
   "source": [
    "# setup parameters and initialize betas\n",
    "# try with step_size = 0.1\n",
    "num_steps = 1000\n",
    "step_size = 1e-1\n",
    "# step_size = 1e-7\n",
    "tol_eps = 1e-4\n",
    "\n",
    "betas_init = np.zeros(3)\n",
    "betas_gd_lin = train_gd(Z_train_lin, y_train_lin, betas_init, num_steps, step_size, tol_eps)\n",
    "mse_train_gd_lin = compute_mse(Z_train_lin, y_train_lin, betas_gd_lin)\n",
    "mse_test_gd_lin = compute_mse(Z_test_lin, y_test_lin, betas_gd_lin)\n",
    "print(f\"final betas_gd: {betas_gd_lin}\")\n",
    "print(f\"final mse_train_gd: {mse_train_gd_lin}\")\n",
    "print(f\"final mse_test_gd: {mse_test_gd_lin}\")"
   ]
  },
  {
   "cell_type": "code",
   "execution_count": 12,
   "id": "2c1fd5da-38f7-41b1-902a-ecd71893b78e",
   "metadata": {},
   "outputs": [
    {
     "name": "stdout",
     "output_type": "stream",
     "text": [
      "step = 0, f_value = 11767.65517\n",
      "step = 1, f_value = 1110.11292\n",
      "step = 2, f_value = 356.57987\n",
      "step = 3, f_value = 303.27218\n",
      "step = 4, f_value = 299.47126\n",
      "step = 5, f_value = 299.17055\n",
      "step = 6, f_value = 299.11730\n",
      "step = 7, f_value = 299.08156\n",
      "step = 8, f_value = 299.04705\n",
      "step = 9, f_value = 299.01264\n",
      "step = 10, f_value = 298.97825\n",
      "step = 4000, f_change 9.99995968473735e-05 <= tol_eps 0.0001, stop training!\n",
      "final betas_gd: [0.00011 0.04426 0.20706]\n",
      "final mse_train_gd: 194.3760784507893\n",
      "final mse_test_gd: 581.2526967247255\n"
     ]
    }
   ],
   "source": [
    "# setup parameters and initialize betas\n",
    "# try with step_size = 1e-7\n",
    "num_steps = 10000\n",
    "# step_size = 1e-1\n",
    "step_size = 1e-7\n",
    "tol_eps = 1e-4\n",
    "\n",
    "betas_init = np.zeros(3)\n",
    "betas_gd_lin = train_gd(Z_train_lin, y_train_lin, betas_init, num_steps, step_size, tol_eps)\n",
    "mse_train_gd_lin = compute_mse(Z_train_lin, y_train_lin, betas_gd_lin)\n",
    "mse_test_gd_lin = compute_mse(Z_test_lin, y_test_lin, betas_gd_lin)\n",
    "print(f\"final betas_gd: {betas_gd_lin}\")\n",
    "print(f\"final mse_train_gd: {mse_train_gd_lin}\")\n",
    "print(f\"final mse_test_gd: {mse_test_gd_lin}\")"
   ]
  },
  {
   "cell_type": "markdown",
   "id": "1cbee3d3-38f5-4f1e-8dbb-4f07dbfab134",
   "metadata": {},
   "source": [
    "#### Commnent on 2f\n",
    "\n",
    "The step size $\\eta = 0.1$ is big, it makes the gradient explodes. We then try smaller $\\beta$. \n",
    "\n",
    "When I try smaller $\\eta = 1e-7$, the gradient descent algorithm seems working and slowly converge. \n",
    "\n",
    "The OLS betas is [-64.18277, 0.04122, 0.85295]\n",
    "\n",
    "The final GD betas is [0.00011, 0.04426, 0.20706]. \n",
    "\n",
    "The GD $\\beta_1$ and $\\beta_2$ are relatively close to the OLS betas, while the GD $\\beta_0$ is quite different from the OLS $\\beta_0$"
   ]
  },
  {
   "cell_type": "markdown",
   "id": "c598cb32-6c6c-43c7-a77a-2f65f9e9b0b1",
   "metadata": {},
   "source": [
    "#### Problem 2g"
   ]
  },
  {
   "cell_type": "code",
   "execution_count": 13,
   "id": "32919978-a5ff-444f-8ca0-58cb73abb0ac",
   "metadata": {},
   "outputs": [
    {
     "name": "stdout",
     "output_type": "stream",
     "text": [
      "step = 0, f_value = 11767.65517\n",
      "step = 1, f_value = 7545.99837\n",
      "step = 2, f_value = 4850.27352\n",
      "step = 3, f_value = 3127.47390\n",
      "step = 4, f_value = 2025.60792\n",
      "step = 5, f_value = 1320.36202\n",
      "step = 6, f_value = 868.64433\n",
      "step = 7, f_value = 579.09748\n",
      "step = 8, f_value = 393.35119\n",
      "step = 9, f_value = 274.08709\n",
      "step = 10, f_value = 197.43184\n",
      "step = 35, f_change 7.877075535638677e-05 <= tol_eps 0.0001, stop training!\n",
      "final betas_gd: [107.15487   1.27438  15.34551]\n",
      "final mse_train_gd: 57.52504814881192\n",
      "final mse_test_gd: 122.46891992909043\n"
     ]
    }
   ],
   "source": [
    "# train linear model with normalized year and Monoda features\n",
    "xmean_train = np.average(x_train)\n",
    "xstd_train = np.sqrt(np.sum((x_train - xmean_train)**2)/(len(x_train)-1))\n",
    "\n",
    "x_train_normalized = (x_train - xmean_train)/xstd_train\n",
    "x_test_normalized = (x_test - xmean_train)/xstd_train\n",
    "\n",
    "ymean_train_Monona = np.average(y_train_Monona)\n",
    "ystd_train_Monona = np.sqrt(np.sum((y_train_Monona - ymean_train_Monona)**2)/(len_train-1))\n",
    "\n",
    "y_train_Monona_nomralized = (y_train_Monona - ymean_train_Monona)/ystd_train_Monona\n",
    "y_test_Monona_nomralized = (y_test_Monona - ymean_train_Monona)/ystd_train_Monona\n",
    "\n",
    "Z_train_normalized = np.vstack([np.ones(len_train), x_train_normalized, y_train_Monona_nomralized]).T\n",
    "Z_test_normalized = np.vstack([np.ones(len_test), x_test_normalized, y_test_Monona_nomralized]).T\n",
    "y_train_normalized = y_train_Mendota\n",
    "y_test_normalized = y_test_Mendota\n",
    "\n",
    "betas_init = np.zeros(3)\n",
    "num_steps = 1000\n",
    "step_size = 1e-1\n",
    "tol_eps = 1e-4\n",
    "\n",
    "betas_gd_normalized = train_gd(\n",
    "    Z_train_normalized, y_train_normalized, betas_init, num_steps, step_size, tol_eps)\n",
    "mse_train_gd_normalized = compute_mse(Z_train_normalized, y_train_normalized, betas_gd_normalized)\n",
    "mse_test_gd_normalized = compute_mse(Z_test_normalized, y_test_normalized, betas_gd_normalized)\n",
    "print(f\"final betas_gd: {betas_gd_normalized}\")\n",
    "print(f\"final mse_train_gd: {mse_train_gd_normalized}\")\n",
    "print(f\"final mse_test_gd: {mse_test_gd_normalized}\")"
   ]
  },
  {
   "cell_type": "code",
   "execution_count": 14,
   "id": "263005fe-75e1-4ed8-852e-fd8ccf53555f",
   "metadata": {},
   "outputs": [
    {
     "name": "stdout",
     "output_type": "stream",
     "text": [
      "step = 0, f_value = 11767.65517\n",
      "step = 0, f_change 3.988511941917085e-07 <= tol_eps 0.0001, stop training!\n",
      "final betas_gd: [ 0.00002 -0.       0.     ]\n",
      "final mse_train_gd: 11767.650478870475\n",
      "final mse_test_gd: 8679.913617850068\n"
     ]
    }
   ],
   "source": [
    "betas_init = np.zeros(3)\n",
    "num_steps = 1000\n",
    "step_size = 1e-7\n",
    "tol_eps = 1e-4\n",
    "\n",
    "betas_gd_normalized = train_gd(\n",
    "    Z_train_normalized, y_train_normalized, betas_init, num_steps, step_size, tol_eps)\n",
    "mse_train_gd_normalized = compute_mse(Z_train_normalized, y_train_normalized, betas_gd_normalized)\n",
    "mse_test_gd_normalized = compute_mse(Z_test_normalized, y_test_normalized, betas_gd_normalized)\n",
    "print(f\"final betas_gd: {betas_gd_normalized}\")\n",
    "print(f\"final mse_train_gd: {mse_train_gd_normalized}\")\n",
    "print(f\"final mse_test_gd: {mse_test_gd_normalized}\")"
   ]
  },
  {
   "cell_type": "markdown",
   "id": "11a10349-5354-4175-8238-8ec239f64807",
   "metadata": {},
   "source": [
    "#### Commnent on 2g\n",
    "\n",
    "For this model, the step size $\\eta = 0.1$ is good, the gradient descent algorithm seems working and slowly converge. \n",
    "\n",
    "While for the larger step size $\\eta = 1e-7$, the gradient descent algorithm also works, but it converges to a worse local minimum than the local minimum obtained using the step size $\\eta = 0.1$ "
   ]
  },
  {
   "cell_type": "markdown",
   "id": "d83367ce-6eff-481f-ba51-82e5ea21a381",
   "metadata": {},
   "source": [
    "#### Problem 2h"
   ]
  },
  {
   "cell_type": "code",
   "execution_count": 15,
   "id": "02911c86-1446-4f19-aa45-6da2f6aba5ab",
   "metadata": {},
   "outputs": [
    {
     "name": "stdout",
     "output_type": "stream",
     "text": [
      "closed-form gammas_ols: [406.11106  -0.1563 ]\n",
      "final mse_train_ols: 250.6416363436319\n",
      "final mse_test_ols: 418.1443654361863\n"
     ]
    }
   ],
   "source": [
    "# train linear model (using closed-form OLS, no normalization) without Monona feature\n",
    "Z_train_nn = np.vstack([np.ones(len_train), x_train]).T\n",
    "Z_test_nn = np.vstack([np.ones(len_test), x_test]).T\n",
    "y_train_nn = y_train_Mendota\n",
    "y_test_nn = y_test_Mendota\n",
    "\n",
    "# compute gammas using closed-form OLS\n",
    "zz = np.matmul(Z_train_nn.T, Z_train_nn)\n",
    "zy = np.matmul(Z_train_nn.T, y_train_nn)\n",
    "gammas_ols_nn = np.matmul(np.linalg.inv(zz), zy)\n",
    "\n",
    "# compute mse \n",
    "mse_train_gd_nn = compute_mse(Z_train_nn, y_train_nn, gammas_ols_nn)\n",
    "mse_test_gd_nn = compute_mse(Z_test_nn, y_test_nn, gammas_ols_nn)\n",
    "\n",
    "print(f\"closed-form gammas_ols: {gammas_ols_nn}\")\n",
    "print(f\"final mse_train_ols: {mse_train_gd_nn}\")\n",
    "print(f\"final mse_test_ols: {mse_test_gd_nn}\")"
   ]
  },
  {
   "cell_type": "markdown",
   "id": "f103afdc-2b0e-46df-bb9c-3bd765dc3d77",
   "metadata": {},
   "source": [
    "h.i) The sign of $\\gamma_1$ is positive, meaning that a year $x$ go by the number of Mendota ice days will decrease, hotter trend. \n",
    "\n",
    "h.ii) We can not claim the view point from model (c). It is not provably correct, for example without further testing we are not certain that $\\beta_1$ is significantly different from 0. The view point derived from model (c) is contradict with the viewpoint derived from (h.i)."
   ]
  },
  {
   "cell_type": "markdown",
   "id": "02993a67-78b5-4ea9-9ad2-6214728f814f",
   "metadata": {},
   "source": [
    "### Problem 3\n",
    "\n",
    "#### Problem 3a\n",
    "\n",
    "Derive the closed form solution in matrix form for the ridge regression problem.\n",
    "\n",
    "$$\n",
    "\\begin{align}\n",
    "\\min_{\\beta} F(\\beta) \n",
    "    &= \\min_{\\beta} (\\frac{1}{n}\\sum_{i=1}^n(Z_i^T\\beta - y_i)^2) + \\lambda\\|\\beta\\|_\\mathrm{A}^2 \\\\\n",
    "    &= \\min_{\\beta} \\frac{1}{n}\\|Z\\beta - y\\|_2^2 + \\lambda\\|\\beta\\|_\\mathrm{A}^2\n",
    "\\end{align}\n",
    "$$  \n",
    "\n",
    "We compute the derivative using the chain rule (some simple steps were omitted)\n",
    "\n",
    "$$\n",
    "\\begin{align}\n",
    "\\nabla F(\\beta) \n",
    "    &= \\frac{2}{n}Z^T (Z\\beta - y) + 2\\lambda\\mathrm{A}\\beta \\\\\n",
    "    % &= \\frac{2}{n}(Z^T Z\\beta - Z^Ty) + 2\\lambda\\beta^T\\mathrm{A} \\\\\n",
    "\\end{align}\n",
    "$$\n",
    "\n",
    "Optimal condition:  $\\hat{\\beta}$ needs to satisfy $\\nabla F(\\hat{\\beta}) = 0$.\n",
    "\n",
    "$$\n",
    "\\begin{align}\n",
    "    & \\frac{2}{n}Z^T (Z\\hat{\\beta} - y) + 2\\lambda\\mathrm{A}\\hat{\\beta} = 0 \\\\\n",
    "    \\Leftrightarrow \\ & Z^T (Z\\hat{\\beta} - y) + n\\lambda\\mathrm{A}\\hat{\\beta} = 0 \\\\\n",
    "    \\Leftrightarrow \\ & (Z^T Z\\hat{\\beta} - Z^Ty) + n\\lambda\\mathrm{A}\\hat{\\beta} = 0 \\\\\n",
    "    \\Leftrightarrow \\ & (Z^T Z + n\\lambda\\mathrm{A})\\hat{\\beta} - Z^Ty = 0 \\\\\n",
    "    \\Leftrightarrow \\ & (Z^T Z + n\\lambda\\mathrm{A})\\hat{\\beta} = Z^Ty \\\\\n",
    "    \\Leftrightarrow \\ & \\hat{\\beta} = (Z^T Z + n\\lambda\\mathrm{A})^{-1}Z^Ty \\\\\n",
    "\\end{align}\n",
    "$$"
   ]
  },
  {
   "cell_type": "markdown",
   "id": "af53be01-4bf8-4d43-b1f9-7f7dca49dd10",
   "metadata": {},
   "source": [
    "#### Problem 3b\n",
    "\n",
    "Let $\\lambda = 1$, compute the value of $\\beta$ from the ridge regression model using data from Problem 2c"
   ]
  },
  {
   "cell_type": "code",
   "execution_count": 16,
   "id": "5b1a002b-b1ec-4d9d-a53c-b2cfbf3cc221",
   "metadata": {},
   "outputs": [
    {
     "name": "stdout",
     "output_type": "stream",
     "text": [
      "closed-form betas_ridge: [-62.32947   0.04044   0.84971]\n"
     ]
    }
   ],
   "source": [
    "# compute betas using closed-form\n",
    "lam = 1\n",
    "n = len(Z_train_lin)\n",
    "A = np.array([[0, 0, 0], [0, 1, 0], [0, 0, 1]])\n",
    "ZZ = np.matmul(Z_train_lin.T, Z_train_lin)\n",
    "Zy = np.matmul(Z_train_lin.T, y_train_lin)\n",
    "betas_ridge_lin = np.matmul(np.linalg.inv(ZZ + n*lam*A), Zy)\n",
    "print(f\"closed-form betas_ridge: {betas_ridge_lin}\")"
   ]
  },
  {
   "cell_type": "markdown",
   "id": "770eb7e6-59ac-4aef-8587-4f0ba240bb58",
   "metadata": {},
   "source": [
    "### Problem 4\n",
    "\n",
    "#### Problem 4a\n",
    "\n",
    "Construct a 95% confidence interval (CI) for the mean rating.\n",
    "\n",
    "Since the variance of the sample is unknown. We will compute the confidence interval using the student's t distribution.\n",
    "\n",
    "The formula for CI: $[\\hat{\\mu}_n \\pm \\frac{\\hat{\\sigma}_n t_{\\alpha/2}}{\\sqrt{n}}]$ "
   ]
  },
  {
   "cell_type": "code",
   "execution_count": 17,
   "id": "07b70584-75e5-416b-ae2e-b6edc43e268b",
   "metadata": {},
   "outputs": [
    {
     "name": "stdout",
     "output_type": "stream",
     "text": [
      "t-test alpha/2 = 2.20099\n",
      "CI for mean rating of algo A: [1.45846 2.87488]\n",
      "CI for mean rating of algo B: [2.27495 4.05838]\n"
     ]
    }
   ],
   "source": [
    "# compute the confidence interval\n",
    "sA = np.array([1, 2, 1, 2, 4, 3, 2, 3, 4, 1, 2, 1])\n",
    "sB = np.array([1, 4, 3, 1, 5, 5, 4, 4, 2, 3, 4, 2])\n",
    "\n",
    "num_samples = len(sA)\n",
    "ddof = num_samples - 1\n",
    "alpha = 0.05\n",
    "t_alpha2 = sp.stats.t.ppf(1-alpha/2, df=ddof)\n",
    "print(f\"t-test alpha/2 = {t_alpha2:0.5f}\")\n",
    "\n",
    "sA_mean = np.average(sA)\n",
    "sA_std = np.sqrt(np.sum((sA - sA_mean)**2)/(num_samples-1))\n",
    "sA_ci = np.array([sA_mean - sA_std*t_alpha2/np.sqrt(num_samples), sA_mean + sA_std*t_alpha2/np.sqrt(num_samples)])\n",
    "\n",
    "sB_mean = np.average(sB)\n",
    "sB_std = np.sqrt(np.sum((sB - sB_mean)**2)/(num_samples-1))\n",
    "sB_ci = np.array([sB_mean - sB_std*t_alpha2/np.sqrt(num_samples), sB_mean + sB_std*t_alpha2/np.sqrt(num_samples)])\n",
    "\n",
    "print(f\"CI for mean rating of algo A: {sA_ci}\")\n",
    "print(f\"CI for mean rating of algo B: {sB_ci}\")"
   ]
  },
  {
   "cell_type": "markdown",
   "id": "df34dfd7-8b55-48d4-9674-43ffc0638a81",
   "metadata": {},
   "source": [
    "The two confidence intervals overlap. That means the difference between the mean ratings of the two algorithms is not statistically significant. We can not claim one algorithm is better than the other in a statistically meaningful way."
   ]
  },
  {
   "cell_type": "markdown",
   "id": "b8a2be7b-4530-42ff-b815-dda8022d5aad",
   "metadata": {},
   "source": [
    "#### Problem 4b\n",
    "\n",
    "Perform the two-sided paired t-test to test the null hypothesis that the two algorithms have no difference in user ratings.\n",
    "\n",
    "The null hypothesis and its alternative are\n",
    "\n",
    "$$\n",
    "\\begin{align}\n",
    "& H_0: \\mu_A - \\mu_B = 0 \\quad \\text{(there is no difference between the mean ratings of the two algorithms)}\\\\\n",
    "& H_a: \\mu_A - \\mu_B \\ne 0\n",
    "\\end{align}\n",
    "$$\n",
    "\n",
    "The formula for t-statistic $Z = \\sqrt{n}\\frac{\\hat{\\delta}_n}{\\hat{\\sigma}_n}$"
   ]
  },
  {
   "cell_type": "code",
   "execution_count": 18,
   "id": "74371361-930e-4c82-b722-6b25bc454b48",
   "metadata": {},
   "outputs": [
    {
     "name": "stdout",
     "output_type": "stream",
     "text": [
      "t-stat Z = -2.569\n",
      "t-test alpha/2 = 2.20099\n"
     ]
    }
   ],
   "source": [
    "sdiff = sA - sB\n",
    "sdiff_mean = np.average(sdiff)\n",
    "sdiff_std = np.sqrt(np.sum((sdiff - sdiff_mean)**2)/(len(sA)-1))\n",
    "tstat = np.sqrt(num_samples)*sdiff_mean/sdiff_std\n",
    "\n",
    "ddof = num_samples - 1\n",
    "alpha = 0.05\n",
    "t_alpha2 = sp.stats.t.ppf(1-alpha/2, df=ddof)\n",
    "\n",
    "# print(sdiff)\n",
    "# print(sdiff_mean)\n",
    "# print(sdiff_std)\n",
    "print(f\"t-stat Z = {tstat:0.5}\")\n",
    "print(f\"t-test alpha/2 = {t_alpha2:0.5f}\")"
   ]
  },
  {
   "cell_type": "markdown",
   "id": "dca0fa2d-1837-4bc3-833d-bb8fa04b716e",
   "metadata": {},
   "source": [
    "Because the t-stat Z -2.569 is not in the interval [-2.20099, +2.20099], we can reject the null hypothesis that there is no difference between the mean ratings of the two algorithms. In other words, there is a difference between in the mean ratings of the algorithms. \n",
    "\n",
    "The potential benefit of using the paired t-test is that it may able to detect the difference between the mean ratings of the algorithms, while constructing the individual confidence intervals as in (a) can not."
   ]
  },
  {
   "cell_type": "markdown",
   "id": "aad49ca8-7437-4f1d-be18-7eb913868bb5",
   "metadata": {},
   "source": [
    "### Problem 5\n",
    "\n",
    "#### Problem 5a\n",
    "\n",
    "Using the notation in the lecture slides.\n",
    "\n",
    "Derive the dual problem of homongenous soft-softmargin SVM\n",
    "\n",
    "We first modify the inequalities of the primal problem to have the form $g_i(x) \\le 0, \\ \\forall i$\n",
    "$$\n",
    "\\begin{align}\n",
    "    & \\min_w \\frac{1}{2} \\|w\\|_2^2 + C\\sum_{i=1}^n \\xi_i \\\\\n",
    "    \\mathrm{s.t.} \\quad & 1 - \\xi_i - y_ix_i^Tw \\le 0, \\ \\forall i \\\\\n",
    "    & - \\xi_i \\le 0, \\ \\forall i\n",
    "\\end{align}\n",
    "$$\n",
    "\n",
    "Lagrangian\n",
    "\n",
    "$$\n",
    "\\begin{align}\n",
    "& \\mathcal{L}(w, \\xi, \\alpha, \\gamma) \\\\\n",
    "& \\ = \\frac{1}{2} \\|w\\|_2^2 + C\\sum_{i=1}^n \\xi_i + \\sum_{i=1}^n\\alpha_i(1 - \\xi_i - y_ix_i^Tw) + \\sum_{i=1}^n\\gamma_i (-\\xi_i) \\\\\n",
    "% & \\ = \\frac{1}{2} \\|w\\|_2^2 + C\\sum_{i=1}^n \\xi_i - \\sum_{i=1}^n\\alpha_i(y_ix_i^Tw + \\xi_i - 1) - \\sum_{i=1}^n\\gamma_i \\xi_i \\\\\n",
    "& \\ = \\frac{1}{2} \\|w\\|_2^2 + \\sum_{i=1}^n\\alpha_i - \\sum_{i=1}^n\\alpha_i y_ix_i^Tw + \\sum_{i=1}^n (C - \\gamma_i - \\alpha_i) \\xi_i \n",
    "\\end{align}\n",
    "$$\n",
    "\n",
    "Dual problem \n",
    "\n",
    "$$\\max_{\\alpha, \\gamma} D(\\alpha, \\gamma) = \\min_{w,\\xi} \\mathcal{L}(w, \\xi, \\alpha, \\gamma)$$\n",
    "\n",
    "We compute partial derivatives of $\\mathcal{L}(w, \\xi, \\alpha, \\gamma)$ w.r.t. $w$, $\\xi$ and set them to 0 respectively\n",
    "\n",
    "$$\n",
    "\\begin{align}\n",
    "\\frac{\\partial \\mathcal{L}}{\\partial w} & = w - \\sum_{i=1}^n\\alpha_iy_ix_i = 0 \\\\\n",
    "\\Rightarrow \\ & w = \\sum_{i=1}^n\\alpha_iy_ix_i \\quad (1)\n",
    "\\end{align}\n",
    "$$\n",
    "\n",
    "$$\n",
    "\\begin{align}\n",
    "\\frac{\\partial \\mathcal{L}}{\\partial \\xi_i} & = C - \\gamma_i - \\alpha_i= 0 \\quad (2) \\\\\n",
    "\\end{align}\n",
    "$$\n",
    "\n",
    "We first apply (2) into $\\mathcal{L}$, we omit the last term. $\\gamma_i$ is also dropped, however, we need to be careful about this. One of KKT optimality conditions is that $\\alpha_i \\ge 0$, $\\gamma_i \\ge 0$, $\\forall i$. Thus, we need to add a constraint $0 \\le \\alpha_i \\le C$, otherwise $\\gamma_i \\le 0$ which contradicts the condition.  \n",
    "\n",
    "$$\n",
    "\\begin{align}\n",
    "& \\mathcal{L}(w, \\alpha) \\\\\n",
    "& \\ = \\frac{1}{2} \\|w\\|_2^2 + \\sum_{i=1}^n\\alpha_i - \\sum_{i=1}^n\\alpha_i y_ix_i^Tw \n",
    "\\end{align}\n",
    "$$\n",
    "\n",
    "We then apply (1) into $\\mathcal{L}$, we have\n",
    "\n",
    "$$\n",
    "\\begin{align}\n",
    "& \\mathcal{L}(\\alpha) \\\\\n",
    "& \\ = \\frac{1}{2} \\|\\sum_{i=1}^n\\alpha_iy_ix_i\\|_2^2 + \\sum_{i=1}^n\\alpha_i - \\sum_{i=1}^n\\alpha_i y_ix_i^T(\\sum_{i=1}^n\\alpha_iy_ix_i) \\\\\n",
    "& \\ = \\sum_{i=1}^n\\alpha_i + \\frac{1}{2}\\sum_{i=1}^n\\sum_{j=1}^n\\alpha_i\\alpha_jy_iy_jx_i^Tx_j  - \\sum_{i=1}^n\\sum_{j=1}^n\\alpha_i\\alpha_jy_iy_jx_i^Tx_j \\\\\n",
    "& \\ = \\sum_{i=1}^n\\alpha_i - \\frac{1}{2}\\sum_{i=1}^n\\sum_{j=1}^n\\alpha_i\\alpha_jy_iy_jx_i^Tx_j \\\\\n",
    "\\end{align}\n",
    "$$\n",
    "\n",
    "Dual problem \n",
    "\n",
    "$$\n",
    "\\begin{align}\n",
    "    & \\max_{\\alpha} \\sum_{i=1}^n\\alpha_i - \\frac{1}{2}\\sum_{i=1}^n\\sum_{j=1}^n\\alpha_i\\alpha_jy_iy_jx_i^Tx_j \\\\\n",
    "    \\mathrm{s.t.} \\quad & 0 \\le \\alpha_i \\le C, \\ \\forall i \\\\\n",
    "\\end{align}\n",
    "$$\n",
    "\n",
    "From the KKT condition, complementary slackness, we have $\\alpha_i^*(1 - \\xi_i^* - y_ix_i^Tw^*) = 0$\n",
    "\n",
    "Support vectors are those data points $i$ with $\\alpha_i^* > 0$.\n",
    "\n",
    "At these points, $\\alpha_i^* > 0 \\Rightarrow (1 - \\xi_i^* - y_ix_i^Tw^*) = 0 \\Rightarrow  y_ix_i^Tw^* = 1 - \\xi_i^* \\le 1$."
   ]
  },
  {
   "cell_type": "markdown",
   "id": "0b520e04-76c8-4d59-9f0d-c09ce895245f",
   "metadata": {},
   "source": [
    "#### Problem 5b\n",
    "\n",
    "We will use the following property for problem 5b.\n",
    "\n",
    "If $K$ is a valid kernel function, it must be symmetric.\n",
    "\n",
    "$K(x,z) = \\langle\\phi(x), \\phi(z)\\rangle = \\langle \\phi(z), \\phi(x) \\rangle = K(z,x)$.\n",
    "\n",
    "\n",
    "<br/>\n",
    "b1) $x = (x_1, x_2)$ and z = $(z_1, z_2)$ are real vectors. Kernel $K(x, z) = x_1 \\cdot z_2$.\n",
    "\n",
    "This is not a valid kernel function, because it is not symmetric.\n",
    "\n",
    "We can see the violation through an example in 2-dim. Let $x = (0, 3)$ and $z = (1, 2)$.\n",
    "\n",
    "$K(x, z) = x_1 \\cdot z_2  = 0$ while $K(z, x) = z_1 \\cdot x_2  = 3$. Hence, $K(x, z) \\ne K(z,x)$.\n",
    "\n",
    "\n",
    "<br/>\n",
    "b2) $x = (x_1, \\dots, x_d)$ and z = $(z_1, \\dots, z_d)$ are vectors whose entries are integers between 0 and 100. Kernel $K(x, z) = \\sum_{i=1}^d \\min\\{x_i,z_d\\}$.\n",
    "\n",
    "This is not a valid kernel function, because it is not symmetric.\n",
    "\n",
    "We can see the violation through an example in 2-dim. Let $x = (0, 3)$ and $z = (1, 2)$\n",
    "\n",
    "$K(x, z) = \\sum_{i=1}^d \\min\\{x_i,z_d\\} = \\min\\{0, 2\\} + \\min\\{3, 2\\} = 2$.\n",
    "\n",
    "While $K(z, x) = \\sum_{i=1}^d \\min\\{z_i,x_d\\} = \\min\\{1, 3\\} + \\min\\{2, 3\\} = 3$. Hence, $K(x, z) \\ne K(z,x)$.\n",
    "\n",
    "<br/>\n",
    "b3) $x = (x_1, \\dots, x_d)$ and z = $(z_1, \\dots, z_d)$. Kernel $K(x, z) = (1 + x_1z_1)\\cdot \\dots \\cdot (1 + x_dz_d)$.\n",
    "\n",
    "From the lecture notes, we use the following kernel construction. If $K_h(x, z)$ and $K_f(x,z)$ are valid kernels with corresponding feature maps $m$-dim $\\phi_{h}(x)$ and $n$-dim $\\phi_{f}(x)$ . \n",
    "\n",
    "Then $K_g(x,z) = K_h(x, z)K_f(x,z)$ with a corresponding feature map $\\phi_g(x) = \\textrm{flat}(\\phi_{h}(x) \\otimes \\phi_{f}(x))$ is a $mn$-dim feature map, each coordinate $\\phi_{g,ij}(x) = \\phi_{h,i}(x)\\phi_{f,j}(x)$. $\\otimes$ is a Kronecker product. \n",
    "\n",
    "The kernel $K(x, z) = \\sum_{i=1}^d \\min\\{x_i,z_d\\}$ is valid.\n",
    "\n",
    "First, we have $K(x, z) = (1 + xz)$ is a valid kernel with $\\phi(x) = [1, x]$, because $K(x, z) = (1 + xz) = \\langle\\phi(x),\\phi(z)\\rangle$.\n",
    "\n",
    "Let $K_i(x_i,z_i) = (1 + x_i z_i)$. As shown above, $K_i(x_i,z_i)$ is a valid kernel with a corresponding feature map $\\phi_i(x_i) = [1, x_i]$, \n",
    "\n",
    "Using the above construction, we can construct $K(x,z) = \\prod_{i=1}^d K_i(x_i,z_i) = (1 + x_1z_1)\\cdot \\dots \\cdot (1 + x_dz_d)$, also a valid kernel.\n",
    "\n",
    "The feature map of $K(x,z)$ is $\\phi(x) = \\textrm{flat}(\\otimes_{i=1}^d\\phi(x_i))$.\n",
    "\n",
    "For example in 2-dim, $K(x,z) = (1 + x_1 z_1)(1 + x_2 z_2)$ with a corresponding feature map $\\phi(x) = [1, x_1, x_2, x_1x_2]$.\n",
    "\n",
    "$K(x,z) = (1 + x_1 z_1)(1 + x_2 z_2) = 1 + x_1 z_1 + x_2 z_2 + x_1 z_1 x_2 z_2 = \\langle \\phi(x), \\phi(z) \\rangle$"
   ]
  },
  {
   "cell_type": "markdown",
   "id": "a9a447c0",
   "metadata": {},
   "source": [
    "### Problem 6\n",
    "\n",
    "For the final project, I want to improve an online Bayesian deep learning algorithm. First step, I want to implement a recent online Bayesian deep learning algorithm and do some experiment on a particular image dataset. I am not if this project is out of the class's scope."
   ]
  }
 ],
 "metadata": {
  "kernelspec": {
   "display_name": "Python 3 (ipykernel)",
   "language": "python",
   "name": "python3"
  },
  "language_info": {
   "codemirror_mode": {
    "name": "ipython",
    "version": 3
   },
   "file_extension": ".py",
   "mimetype": "text/x-python",
   "name": "python",
   "nbconvert_exporter": "python",
   "pygments_lexer": "ipython3",
   "version": "3.9.7"
  },
  "toc-autonumbering": false,
  "toc-showmarkdowntxt": false
 },
 "nbformat": 4,
 "nbformat_minor": 5
}
